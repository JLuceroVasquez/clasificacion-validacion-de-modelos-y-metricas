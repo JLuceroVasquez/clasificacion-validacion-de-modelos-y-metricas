{
  "nbformat": 4,
  "nbformat_minor": 0,
  "metadata": {
    "colab": {
      "provenance": [],
      "toc_visible": true,
      "include_colab_link": true
    },
    "kernelspec": {
      "name": "python3",
      "display_name": "Python 3"
    },
    "language_info": {
      "name": "python"
    }
  },
  "cells": [
    {
      "cell_type": "markdown",
      "metadata": {
        "id": "view-in-github",
        "colab_type": "text"
      },
      "source": [
        "<a href=\"https://colab.research.google.com/github/JLuceroVasquez/clasificacion-validacion-de-modelos-y-metricas/blob/main/Clasificacion_validacion_y_metricas.ipynb\" target=\"_parent\"><img src=\"https://colab.research.google.com/assets/colab-badge.svg\" alt=\"Open In Colab\"/></a>"
      ]
    },
    {
      "cell_type": "markdown",
      "source": [
        "# <font color='dark'>**Clasificación: Validación de modelos y métricas de evaluación**</h1>"
      ],
      "metadata": {
        "id": "MCqTDybk4ShK"
      }
    },
    {
      "cell_type": "markdown",
      "source": [
        "### Proyecto\n",
        "\n",
        "Una empresa de financiamiento de automóviles está atravesando una situación complicada, con una alta demanda para una flota reducida de vehículos y un alto número de morosos, lo que está generando grandes pérdidas para la empresa.\n",
        "\n",
        "Nosotros fuimos contratados para buscar mejoras en la identificación de morosos. El análisis de los clientes actualmente se realiza de forma manual, cliente por cliente, lo que consume mucho tiempo y, aun así, la detección de morosos es muy imprecisa.\n",
        "\n",
        "Nuestra tarea es utilizar los datos proporcionados por la empresa para **clasificar** a los clientes en cumplidores y morosos."
      ],
      "metadata": {
        "id": "WscU3KG7a9No"
      }
    },
    {
      "cell_type": "code",
      "source": [
        "#Para la manipulación de datos\n",
        "import pandas as pd\n",
        "import numpy as np\n",
        "\n",
        "#Para la división en conjunto de datos\n",
        "from sklearn.model_selection import train_test_split\n",
        "from sklearn.model_selection import KFold #Para dividir los datos de (entrenamiento y validación) en K-subgrupos\n",
        "from sklearn.model_selection import StratifiedKFold #Para dividir los datos de (entrenamiento y validación) en K-subgrupos de forma estratificada\n",
        "from sklearn.model_selection import LeaveOneOut #Para dividir los datos en 1 para validación y los demás para entrenamiento\n",
        "from sklearn.model_selection import cross_validate #Para realizar la validación cruzada con cada subgrupo\n",
        "from sklearn.model_selection import cross_val_score #Para mostrar únicamente las métricas de la validación cruzada\n",
        "\n",
        "#Para el balanceo de categorías en la variable Y\n",
        "from imblearn.over_sampling import SMOTE #Técnica de oversampling SMOTE\n",
        "from imblearn.under_sampling import NearMiss #Técnica de undersampling NearMiss\n",
        "from imblearn.combine import SMOTEENN #Técnica que combina el método oversampling SMOTE y undersampling ENN\n",
        "from imblearn.pipeline import Pipeline as imbpipeline #Para crear un pipeline (secuencia de pasos) que permita entrenar un modelo con datos balanceados, y validarlo por separado con datos desbalanceados\n",
        "\n",
        "#Para en el entrenamiento de modelos ML\n",
        "from sklearn.tree import DecisionTreeClassifier\n",
        "from sklearn.ensemble import RandomForestClassifier\n",
        "\n",
        "#Para la evaluación de modelos ML: Matriz de confusión\n",
        "from sklearn.metrics import confusion_matrix #Para obtener los valores de la matriz de confusión\n",
        "from sklearn.metrics import ConfusionMatrixDisplay #Para visualizar la matriz de confusión\n",
        "from sklearn.metrics import accuracy_score, precision_score, recall_score, f1_score #Para el cálculo de métricas que cuantifiquen el error tipo 1 y 2 de la matriz de confusión\n",
        "\n",
        "#Para la evaluación de modelos ML: Curva ROC\n",
        "from sklearn.metrics import RocCurveDisplay #Para visualizar la curva ROC\n",
        "from sklearn.metrics import roc_auc_score #Para el cálculo de la curva ROC\n",
        "\n",
        "#Para la evaluación de modelos ML: Curva de precisión x sensibilidad\n",
        "from sklearn.metrics import PrecisionRecallDisplay #Para visualizar la curva de precisión x sensibilidad\n",
        "from sklearn.metrics import average_precision_score #Para el cálculo de la precisión promedio respecto a distintos valores de sensibilidad\n",
        "\n",
        "#Para la evaluación de modelos ML: Informe de clasificación\n",
        "from sklearn.metrics import classification_report #Para visualizar las métricas de precisión, recall y F1 por cada categoría, y sus promedios"
      ],
      "metadata": {
        "id": "jmM5T0tbf4Qx"
      },
      "execution_count": 149,
      "outputs": []
    },
    {
      "cell_type": "markdown",
      "source": [
        "## <font color='dark'>Clasificando los datos</h1>"
      ],
      "metadata": {
        "id": "WgS8iF51Csrn"
      }
    },
    {
      "cell_type": "markdown",
      "source": [
        "### Creando un modelo inicial"
      ],
      "metadata": {
        "id": "6lExmBuKn-xe"
      }
    },
    {
      "cell_type": "code",
      "source": [
        "'''\n",
        "import chardet\n",
        "with open('/content/prestacar.csv','rb') as f:\n",
        "  diccionario = chardet.detect(f.read())\n",
        "  encode = diccionario['encoding']\n",
        "\n",
        "print(encode)\n",
        "'''"
      ],
      "metadata": {
        "id": "ANJDC3LqP43q",
        "outputId": "7dc628f2-b43d-45e1-9c3d-b05d59e637f2",
        "colab": {
          "base_uri": "https://localhost:8080/",
          "height": 36
        }
      },
      "execution_count": 79,
      "outputs": [
        {
          "output_type": "execute_result",
          "data": {
            "text/plain": [
              "\"\\nimport chardet\\nwith open('/content/prestacar.csv','rb') as f:\\n  diccionario = chardet.detect(f.read())\\n  encode = diccionario['encoding']\\n\\nprint(encode)\\n\""
            ],
            "application/vnd.google.colaboratory.intrinsic+json": {
              "type": "string"
            }
          },
          "metadata": {},
          "execution_count": 79
        }
      ]
    },
    {
      "cell_type": "code",
      "source": [
        "url = 'https://github.com/JLuceroVasquez/clasificacion-validacion-de-modelos-y-metricas/raw/refs/heads/main/prestacar.csv'\n",
        "datos = pd.read_csv(url, encoding='utf-8') #Se empleó utf-8 para importar correctamente el nombre de las columnas\n",
        "datos.head()"
      ],
      "metadata": {
        "id": "UPddns6dP4kt",
        "outputId": "ecf18b27-c6b2-439d-b29d-6300446ef750",
        "colab": {
          "base_uri": "https://localhost:8080/",
          "height": 206
        }
      },
      "execution_count": 80,
      "outputs": [
        {
          "output_type": "execute_result",
          "data": {
            "text/plain": [
              "   ingresos_cliente  anualidad_prestamo  años_casa_propia  telefono_trab  \\\n",
              "0           12600.0         3569.400000         12.157324              1   \n",
              "1            9000.0         2722.188351          7.000000              0   \n",
              "2           15750.0         4477.500000         12.000000              0   \n",
              "3            9000.0         1309.050000         12.157324              0   \n",
              "4            7650.0         1125.000000         12.157324              0   \n",
              "\n",
              "   evaluacion_ciudad   score_1   score_2   score_3  score_social  \\\n",
              "0                2.0  0.057153  0.527227  0.513171      0.117428   \n",
              "1                2.0  0.657661  0.285898  0.614414      0.222700   \n",
              "2                2.0  0.501213  0.695423  0.513171      0.117428   \n",
              "3                3.0  0.501213  0.155973  0.513171      0.117428   \n",
              "4                2.0  0.294328  0.152076  0.513171      0.117428   \n",
              "\n",
              "   cambio_telefono  moroso  \n",
              "0           2545.0       0  \n",
              "1            495.0       0  \n",
              "2           1212.0       0  \n",
              "3            515.0       0  \n",
              "4            162.0       0  "
            ],
            "text/html": [
              "\n",
              "  <div id=\"df-1bf1e924-c03b-4dba-94a5-0b455e4bf25b\" class=\"colab-df-container\">\n",
              "    <div>\n",
              "<style scoped>\n",
              "    .dataframe tbody tr th:only-of-type {\n",
              "        vertical-align: middle;\n",
              "    }\n",
              "\n",
              "    .dataframe tbody tr th {\n",
              "        vertical-align: top;\n",
              "    }\n",
              "\n",
              "    .dataframe thead th {\n",
              "        text-align: right;\n",
              "    }\n",
              "</style>\n",
              "<table border=\"1\" class=\"dataframe\">\n",
              "  <thead>\n",
              "    <tr style=\"text-align: right;\">\n",
              "      <th></th>\n",
              "      <th>ingresos_cliente</th>\n",
              "      <th>anualidad_prestamo</th>\n",
              "      <th>años_casa_propia</th>\n",
              "      <th>telefono_trab</th>\n",
              "      <th>evaluacion_ciudad</th>\n",
              "      <th>score_1</th>\n",
              "      <th>score_2</th>\n",
              "      <th>score_3</th>\n",
              "      <th>score_social</th>\n",
              "      <th>cambio_telefono</th>\n",
              "      <th>moroso</th>\n",
              "    </tr>\n",
              "  </thead>\n",
              "  <tbody>\n",
              "    <tr>\n",
              "      <th>0</th>\n",
              "      <td>12600.0</td>\n",
              "      <td>3569.400000</td>\n",
              "      <td>12.157324</td>\n",
              "      <td>1</td>\n",
              "      <td>2.0</td>\n",
              "      <td>0.057153</td>\n",
              "      <td>0.527227</td>\n",
              "      <td>0.513171</td>\n",
              "      <td>0.117428</td>\n",
              "      <td>2545.0</td>\n",
              "      <td>0</td>\n",
              "    </tr>\n",
              "    <tr>\n",
              "      <th>1</th>\n",
              "      <td>9000.0</td>\n",
              "      <td>2722.188351</td>\n",
              "      <td>7.000000</td>\n",
              "      <td>0</td>\n",
              "      <td>2.0</td>\n",
              "      <td>0.657661</td>\n",
              "      <td>0.285898</td>\n",
              "      <td>0.614414</td>\n",
              "      <td>0.222700</td>\n",
              "      <td>495.0</td>\n",
              "      <td>0</td>\n",
              "    </tr>\n",
              "    <tr>\n",
              "      <th>2</th>\n",
              "      <td>15750.0</td>\n",
              "      <td>4477.500000</td>\n",
              "      <td>12.000000</td>\n",
              "      <td>0</td>\n",
              "      <td>2.0</td>\n",
              "      <td>0.501213</td>\n",
              "      <td>0.695423</td>\n",
              "      <td>0.513171</td>\n",
              "      <td>0.117428</td>\n",
              "      <td>1212.0</td>\n",
              "      <td>0</td>\n",
              "    </tr>\n",
              "    <tr>\n",
              "      <th>3</th>\n",
              "      <td>9000.0</td>\n",
              "      <td>1309.050000</td>\n",
              "      <td>12.157324</td>\n",
              "      <td>0</td>\n",
              "      <td>3.0</td>\n",
              "      <td>0.501213</td>\n",
              "      <td>0.155973</td>\n",
              "      <td>0.513171</td>\n",
              "      <td>0.117428</td>\n",
              "      <td>515.0</td>\n",
              "      <td>0</td>\n",
              "    </tr>\n",
              "    <tr>\n",
              "      <th>4</th>\n",
              "      <td>7650.0</td>\n",
              "      <td>1125.000000</td>\n",
              "      <td>12.157324</td>\n",
              "      <td>0</td>\n",
              "      <td>2.0</td>\n",
              "      <td>0.294328</td>\n",
              "      <td>0.152076</td>\n",
              "      <td>0.513171</td>\n",
              "      <td>0.117428</td>\n",
              "      <td>162.0</td>\n",
              "      <td>0</td>\n",
              "    </tr>\n",
              "  </tbody>\n",
              "</table>\n",
              "</div>\n",
              "    <div class=\"colab-df-buttons\">\n",
              "\n",
              "  <div class=\"colab-df-container\">\n",
              "    <button class=\"colab-df-convert\" onclick=\"convertToInteractive('df-1bf1e924-c03b-4dba-94a5-0b455e4bf25b')\"\n",
              "            title=\"Convert this dataframe to an interactive table.\"\n",
              "            style=\"display:none;\">\n",
              "\n",
              "  <svg xmlns=\"http://www.w3.org/2000/svg\" height=\"24px\" viewBox=\"0 -960 960 960\">\n",
              "    <path d=\"M120-120v-720h720v720H120Zm60-500h600v-160H180v160Zm220 220h160v-160H400v160Zm0 220h160v-160H400v160ZM180-400h160v-160H180v160Zm440 0h160v-160H620v160ZM180-180h160v-160H180v160Zm440 0h160v-160H620v160Z\"/>\n",
              "  </svg>\n",
              "    </button>\n",
              "\n",
              "  <style>\n",
              "    .colab-df-container {\n",
              "      display:flex;\n",
              "      gap: 12px;\n",
              "    }\n",
              "\n",
              "    .colab-df-convert {\n",
              "      background-color: #E8F0FE;\n",
              "      border: none;\n",
              "      border-radius: 50%;\n",
              "      cursor: pointer;\n",
              "      display: none;\n",
              "      fill: #1967D2;\n",
              "      height: 32px;\n",
              "      padding: 0 0 0 0;\n",
              "      width: 32px;\n",
              "    }\n",
              "\n",
              "    .colab-df-convert:hover {\n",
              "      background-color: #E2EBFA;\n",
              "      box-shadow: 0px 1px 2px rgba(60, 64, 67, 0.3), 0px 1px 3px 1px rgba(60, 64, 67, 0.15);\n",
              "      fill: #174EA6;\n",
              "    }\n",
              "\n",
              "    .colab-df-buttons div {\n",
              "      margin-bottom: 4px;\n",
              "    }\n",
              "\n",
              "    [theme=dark] .colab-df-convert {\n",
              "      background-color: #3B4455;\n",
              "      fill: #D2E3FC;\n",
              "    }\n",
              "\n",
              "    [theme=dark] .colab-df-convert:hover {\n",
              "      background-color: #434B5C;\n",
              "      box-shadow: 0px 1px 3px 1px rgba(0, 0, 0, 0.15);\n",
              "      filter: drop-shadow(0px 1px 2px rgba(0, 0, 0, 0.3));\n",
              "      fill: #FFFFFF;\n",
              "    }\n",
              "  </style>\n",
              "\n",
              "    <script>\n",
              "      const buttonEl =\n",
              "        document.querySelector('#df-1bf1e924-c03b-4dba-94a5-0b455e4bf25b button.colab-df-convert');\n",
              "      buttonEl.style.display =\n",
              "        google.colab.kernel.accessAllowed ? 'block' : 'none';\n",
              "\n",
              "      async function convertToInteractive(key) {\n",
              "        const element = document.querySelector('#df-1bf1e924-c03b-4dba-94a5-0b455e4bf25b');\n",
              "        const dataTable =\n",
              "          await google.colab.kernel.invokeFunction('convertToInteractive',\n",
              "                                                    [key], {});\n",
              "        if (!dataTable) return;\n",
              "\n",
              "        const docLinkHtml = 'Like what you see? Visit the ' +\n",
              "          '<a target=\"_blank\" href=https://colab.research.google.com/notebooks/data_table.ipynb>data table notebook</a>'\n",
              "          + ' to learn more about interactive tables.';\n",
              "        element.innerHTML = '';\n",
              "        dataTable['output_type'] = 'display_data';\n",
              "        await google.colab.output.renderOutput(dataTable, element);\n",
              "        const docLink = document.createElement('div');\n",
              "        docLink.innerHTML = docLinkHtml;\n",
              "        element.appendChild(docLink);\n",
              "      }\n",
              "    </script>\n",
              "  </div>\n",
              "\n",
              "\n",
              "    <div id=\"df-13d175eb-8108-49ca-97e1-205449d699a4\">\n",
              "      <button class=\"colab-df-quickchart\" onclick=\"quickchart('df-13d175eb-8108-49ca-97e1-205449d699a4')\"\n",
              "                title=\"Suggest charts\"\n",
              "                style=\"display:none;\">\n",
              "\n",
              "<svg xmlns=\"http://www.w3.org/2000/svg\" height=\"24px\"viewBox=\"0 0 24 24\"\n",
              "     width=\"24px\">\n",
              "    <g>\n",
              "        <path d=\"M19 3H5c-1.1 0-2 .9-2 2v14c0 1.1.9 2 2 2h14c1.1 0 2-.9 2-2V5c0-1.1-.9-2-2-2zM9 17H7v-7h2v7zm4 0h-2V7h2v10zm4 0h-2v-4h2v4z\"/>\n",
              "    </g>\n",
              "</svg>\n",
              "      </button>\n",
              "\n",
              "<style>\n",
              "  .colab-df-quickchart {\n",
              "      --bg-color: #E8F0FE;\n",
              "      --fill-color: #1967D2;\n",
              "      --hover-bg-color: #E2EBFA;\n",
              "      --hover-fill-color: #174EA6;\n",
              "      --disabled-fill-color: #AAA;\n",
              "      --disabled-bg-color: #DDD;\n",
              "  }\n",
              "\n",
              "  [theme=dark] .colab-df-quickchart {\n",
              "      --bg-color: #3B4455;\n",
              "      --fill-color: #D2E3FC;\n",
              "      --hover-bg-color: #434B5C;\n",
              "      --hover-fill-color: #FFFFFF;\n",
              "      --disabled-bg-color: #3B4455;\n",
              "      --disabled-fill-color: #666;\n",
              "  }\n",
              "\n",
              "  .colab-df-quickchart {\n",
              "    background-color: var(--bg-color);\n",
              "    border: none;\n",
              "    border-radius: 50%;\n",
              "    cursor: pointer;\n",
              "    display: none;\n",
              "    fill: var(--fill-color);\n",
              "    height: 32px;\n",
              "    padding: 0;\n",
              "    width: 32px;\n",
              "  }\n",
              "\n",
              "  .colab-df-quickchart:hover {\n",
              "    background-color: var(--hover-bg-color);\n",
              "    box-shadow: 0 1px 2px rgba(60, 64, 67, 0.3), 0 1px 3px 1px rgba(60, 64, 67, 0.15);\n",
              "    fill: var(--button-hover-fill-color);\n",
              "  }\n",
              "\n",
              "  .colab-df-quickchart-complete:disabled,\n",
              "  .colab-df-quickchart-complete:disabled:hover {\n",
              "    background-color: var(--disabled-bg-color);\n",
              "    fill: var(--disabled-fill-color);\n",
              "    box-shadow: none;\n",
              "  }\n",
              "\n",
              "  .colab-df-spinner {\n",
              "    border: 2px solid var(--fill-color);\n",
              "    border-color: transparent;\n",
              "    border-bottom-color: var(--fill-color);\n",
              "    animation:\n",
              "      spin 1s steps(1) infinite;\n",
              "  }\n",
              "\n",
              "  @keyframes spin {\n",
              "    0% {\n",
              "      border-color: transparent;\n",
              "      border-bottom-color: var(--fill-color);\n",
              "      border-left-color: var(--fill-color);\n",
              "    }\n",
              "    20% {\n",
              "      border-color: transparent;\n",
              "      border-left-color: var(--fill-color);\n",
              "      border-top-color: var(--fill-color);\n",
              "    }\n",
              "    30% {\n",
              "      border-color: transparent;\n",
              "      border-left-color: var(--fill-color);\n",
              "      border-top-color: var(--fill-color);\n",
              "      border-right-color: var(--fill-color);\n",
              "    }\n",
              "    40% {\n",
              "      border-color: transparent;\n",
              "      border-right-color: var(--fill-color);\n",
              "      border-top-color: var(--fill-color);\n",
              "    }\n",
              "    60% {\n",
              "      border-color: transparent;\n",
              "      border-right-color: var(--fill-color);\n",
              "    }\n",
              "    80% {\n",
              "      border-color: transparent;\n",
              "      border-right-color: var(--fill-color);\n",
              "      border-bottom-color: var(--fill-color);\n",
              "    }\n",
              "    90% {\n",
              "      border-color: transparent;\n",
              "      border-bottom-color: var(--fill-color);\n",
              "    }\n",
              "  }\n",
              "</style>\n",
              "\n",
              "      <script>\n",
              "        async function quickchart(key) {\n",
              "          const quickchartButtonEl =\n",
              "            document.querySelector('#' + key + ' button');\n",
              "          quickchartButtonEl.disabled = true;  // To prevent multiple clicks.\n",
              "          quickchartButtonEl.classList.add('colab-df-spinner');\n",
              "          try {\n",
              "            const charts = await google.colab.kernel.invokeFunction(\n",
              "                'suggestCharts', [key], {});\n",
              "          } catch (error) {\n",
              "            console.error('Error during call to suggestCharts:', error);\n",
              "          }\n",
              "          quickchartButtonEl.classList.remove('colab-df-spinner');\n",
              "          quickchartButtonEl.classList.add('colab-df-quickchart-complete');\n",
              "        }\n",
              "        (() => {\n",
              "          let quickchartButtonEl =\n",
              "            document.querySelector('#df-13d175eb-8108-49ca-97e1-205449d699a4 button');\n",
              "          quickchartButtonEl.style.display =\n",
              "            google.colab.kernel.accessAllowed ? 'block' : 'none';\n",
              "        })();\n",
              "      </script>\n",
              "    </div>\n",
              "\n",
              "    </div>\n",
              "  </div>\n"
            ],
            "application/vnd.google.colaboratory.intrinsic+json": {
              "type": "dataframe",
              "variable_name": "datos",
              "summary": "{\n  \"name\": \"datos\",\n  \"rows\": 54025,\n  \"fields\": [\n    {\n      \"column\": \"ingresos_cliente\",\n      \"properties\": {\n        \"dtype\": \"number\",\n        \"std\": 9658.762569130264,\n        \"min\": 2700.0,\n        \"max\": 450000.0,\n        \"num_unique_values\": 663,\n        \"samples\": [\n          11018.7,\n          38520.0,\n          17796.6\n        ],\n        \"semantic_type\": \"\",\n        \"description\": \"\"\n      }\n    },\n    {\n      \"column\": \"anualidad_prestamo\",\n      \"properties\": {\n        \"dtype\": \"number\",\n        \"std\": 1305.3647344874787,\n        \"min\": 218.7,\n        \"max\": 22500.0,\n        \"num_unique_values\": 8004,\n        \"samples\": [\n          5339.7,\n          5067.0,\n          5757.3\n        ],\n        \"semantic_type\": \"\",\n        \"description\": \"\"\n      }\n    },\n    {\n      \"column\": \"a\\u00f1os_casa_propia\",\n      \"properties\": {\n        \"dtype\": \"number\",\n        \"std\": 7.452120104984191,\n        \"min\": 0.0,\n        \"max\": 69.0,\n        \"num_unique_values\": 53,\n        \"samples\": [\n          11.0,\n          31.0,\n          32.0\n        ],\n        \"semantic_type\": \"\",\n        \"description\": \"\"\n      }\n    },\n    {\n      \"column\": \"telefono_trab\",\n      \"properties\": {\n        \"dtype\": \"number\",\n        \"std\": 0,\n        \"min\": 0,\n        \"max\": 1,\n        \"num_unique_values\": 2,\n        \"samples\": [\n          0,\n          1\n        ],\n        \"semantic_type\": \"\",\n        \"description\": \"\"\n      }\n    },\n    {\n      \"column\": \"evaluacion_ciudad\",\n      \"properties\": {\n        \"dtype\": \"number\",\n        \"std\": 0.49880682251877845,\n        \"min\": 1.0,\n        \"max\": 3.0,\n        \"num_unique_values\": 4,\n        \"samples\": [\n          3.0,\n          2.030038427084816\n        ],\n        \"semantic_type\": \"\",\n        \"description\": \"\"\n      }\n    },\n    {\n      \"column\": \"score_1\",\n      \"properties\": {\n        \"dtype\": \"number\",\n        \"std\": 0.14238945649917853,\n        \"min\": 0.014568132,\n        \"max\": 0.942680454,\n        \"num_unique_values\": 23062,\n        \"samples\": [\n          0.475611877,\n          0.435226091\n        ],\n        \"semantic_type\": \"\",\n        \"description\": \"\"\n      }\n    },\n    {\n      \"column\": \"score_2\",\n      \"properties\": {\n        \"dtype\": \"number\",\n        \"std\": 0.8759454878096079,\n        \"min\": 5e-06,\n        \"max\": 100.0,\n        \"num_unique_values\": 38047,\n        \"samples\": [\n          0.416306086,\n          0.675062411\n        ],\n        \"semantic_type\": \"\",\n        \"description\": \"\"\n      }\n    },\n    {\n      \"column\": \"score_3\",\n      \"properties\": {\n        \"dtype\": \"number\",\n        \"std\": 0.06272486372343226,\n        \"min\": 0.000527265,\n        \"max\": 0.869210801,\n        \"num_unique_values\": 612,\n        \"samples\": [\n          0.420610964,\n          0.168416171\n        ],\n        \"semantic_type\": \"\",\n        \"description\": \"\"\n      }\n    },\n    {\n      \"column\": \"score_social\",\n      \"properties\": {\n        \"dtype\": \"number\",\n        \"std\": 0.0761796573204536,\n        \"min\": 0.0,\n        \"max\": 1.0,\n        \"num_unique_values\": 1459,\n        \"samples\": [\n          0.1674,\n          0.6381\n        ],\n        \"semantic_type\": \"\",\n        \"description\": \"\"\n      }\n    },\n    {\n      \"column\": \"cambio_telefono\",\n      \"properties\": {\n        \"dtype\": \"number\",\n        \"std\": 818.1417090553241,\n        \"min\": 0.0,\n        \"max\": 4185.0,\n        \"num_unique_values\": 3408,\n        \"samples\": [\n          966.0,\n          3099.0\n        ],\n        \"semantic_type\": \"\",\n        \"description\": \"\"\n      }\n    },\n    {\n      \"column\": \"moroso\",\n      \"properties\": {\n        \"dtype\": \"number\",\n        \"std\": 0,\n        \"min\": 0,\n        \"max\": 1,\n        \"num_unique_values\": 2,\n        \"samples\": [\n          1,\n          0\n        ],\n        \"semantic_type\": \"\",\n        \"description\": \"\"\n      }\n    }\n  ]\n}"
            }
          },
          "metadata": {},
          "execution_count": 80
        }
      ]
    },
    {
      "cell_type": "code",
      "source": [
        "datos.info()"
      ],
      "metadata": {
        "id": "UVIX6QLpP4iC",
        "outputId": "53cb75aa-e594-46f5-e40d-85c8c6c9e96d",
        "colab": {
          "base_uri": "https://localhost:8080/"
        }
      },
      "execution_count": 81,
      "outputs": [
        {
          "output_type": "stream",
          "name": "stdout",
          "text": [
            "<class 'pandas.core.frame.DataFrame'>\n",
            "RangeIndex: 54025 entries, 0 to 54024\n",
            "Data columns (total 11 columns):\n",
            " #   Column              Non-Null Count  Dtype  \n",
            "---  ------              --------------  -----  \n",
            " 0   ingresos_cliente    54025 non-null  float64\n",
            " 1   anualidad_prestamo  54025 non-null  float64\n",
            " 2   años_casa_propia    54025 non-null  float64\n",
            " 3   telefono_trab       54025 non-null  int64  \n",
            " 4   evaluacion_ciudad   54025 non-null  float64\n",
            " 5   score_1             54025 non-null  float64\n",
            " 6   score_2             54025 non-null  float64\n",
            " 7   score_3             54025 non-null  float64\n",
            " 8   score_social        54025 non-null  float64\n",
            " 9   cambio_telefono     54025 non-null  float64\n",
            " 10  moroso              54025 non-null  int64  \n",
            "dtypes: float64(9), int64(2)\n",
            "memory usage: 4.5 MB\n"
          ]
        }
      ]
    },
    {
      "cell_type": "code",
      "source": [
        "#Separando las variables explicativas de la variable de respuesta\n",
        "X = datos.drop(columns='moroso')\n",
        "y = datos['moroso']\n",
        "\n",
        "#Entrenamiento y evaluación del modelo de arbol clasificador\n",
        "modelo_arbol = DecisionTreeClassifier()\n",
        "modelo_arbol.fit(X, y)\n",
        "print(f'El modelo de árbo tiene una exactitud de {modelo_arbol.score(X, y)}')"
      ],
      "metadata": {
        "id": "3RPr2oVVhkhc",
        "outputId": "c2e46ed4-9f34-4839-bf97-9827498384b0",
        "colab": {
          "base_uri": "https://localhost:8080/"
        }
      },
      "execution_count": 82,
      "outputs": [
        {
          "output_type": "stream",
          "name": "stdout",
          "text": [
            "El modelo de árbo tiene una exactitud de 1.0\n"
          ]
        }
      ]
    },
    {
      "cell_type": "markdown",
      "source": [
        "### Validando el modelo"
      ],
      "metadata": {
        "id": "EPrFcm39oAof"
      }
    },
    {
      "cell_type": "markdown",
      "source": [
        "Evaluar el modelo con los mismos datos utilizados en el entrenamiento no es recomendable. Es necesario que la evaluación se realice con datos independientes.  \n",
        "\n",
        "Evaluar el modelo con los propios datos de entrenamiento sería equivalente a entregar un examen con las preguntas y las respuestas a una persona y, al momento de evaluarla nuevamente, entregarle un examen con las mismas preguntas y opciones. Se espera que esa persona obtenga un buen resultado, ya que ya ha visto las respuestas y ha memorizado el resultado. Esto es diferente de haber aprendido la materia a partir de ese examen y luego presentar una prueba con contenido similar y obtener un resultado positivo.  \n",
        "\n",
        "Con el objetivo de verificar la capacidad de generalización de un modelo, debemos dividir el conjunto de datos en tres partes: datos de entrenamiento, validación y prueba.  \n",
        "\n",
        "- El **conjunto de entrenamiento** se utiliza para entrenar los modelos. A partir de este conjunto, los modelos identifican patrones en los datos.  \n",
        "\n",
        "- El **conjunto de validación** se emplea para evaluar el desempeño de diferentes modelos con datos nuevos que no fueron utilizados en el entrenamiento.  \n",
        "\n",
        "- El **conjunto de prueba** se mantiene separado desde el inicio para simular datos del mundo real. No se utiliza en ninguna etapa del entrenamiento ni de la validación, sirviendo como una estimación de la capacidad del modelo elegido para generalizar y predecir nuevos datos."
      ],
      "metadata": {
        "id": "v0u-uij9eNcD"
      }
    },
    {
      "cell_type": "markdown",
      "source": [
        "<a href=\"https://ibb.co/9H2Z1HZ5\"><img src=\"https://i.ibb.co/0yZs6ysb/datos-train-test.png\" alt=\"datos-train-test\" border=\"0\"></a>"
      ],
      "metadata": {
        "id": "TCIN5oOJFk_W"
      }
    },
    {
      "cell_type": "code",
      "source": [
        "#Se divide los datos en 3 conjuntos: Entrenamiento(64% = 75%*85%), validación(21% = 25%*85%), prueba(15%)\n",
        "X, X_test, y, y_test = train_test_split(X, y, test_size=0.15, random_state=5, stratify=y)\n",
        "X_train, X_val, y_train, y_val = train_test_split(X, y, random_state=5, stratify=y)"
      ],
      "metadata": {
        "id": "OICJjv9HP1QZ"
      },
      "execution_count": 83,
      "outputs": []
    },
    {
      "cell_type": "code",
      "source": [
        "#Entrenamiento y validación del modelo de árbol con profundida exahustiva\n",
        "modelo_arbol = DecisionTreeClassifier(random_state=2)\n",
        "modelo_arbol.fit(X_train, y_train)\n",
        "print(f'El modelo de árbol con datos de entrenamiento tiene una exactitud de {modelo_arbol.score(X_train, y_train)}')\n",
        "print(f'El modelo de árbol con datos de validación tiene una exactitud de {modelo_arbol.score(X_val, y_val)}')"
      ],
      "metadata": {
        "id": "mvDcVFFDP1sB",
        "outputId": "b3534761-f21c-4e49-88e0-78959e5b6225",
        "colab": {
          "base_uri": "https://localhost:8080/"
        }
      },
      "execution_count": 84,
      "outputs": [
        {
          "output_type": "stream",
          "name": "stdout",
          "text": [
            "El modelo de árbol con datos de entrenamiento tiene una exactitud de 1.0\n",
            "El modelo de árbol con datos de validación tiene una exactitud de 0.847312951833464\n"
          ]
        }
      ]
    },
    {
      "cell_type": "code",
      "source": [
        "#Entrenamiento y validación del modelo de árbol con 10 niveles de profundidad\n",
        "modelo_arbol = DecisionTreeClassifier(max_depth=10, random_state=2)\n",
        "modelo_arbol.fit(X_train, y_train)\n",
        "print(f'El modelo de árbol con datos de entrenamiento tiene una exactitud de {modelo_arbol.score(X_train, y_train)}')\n",
        "print(f'El modelo de árbol con datos de validación tiene una exactitud de {modelo_arbol.score(X_val, y_val)}')"
      ],
      "metadata": {
        "id": "sEJPwwG_P1Md",
        "outputId": "646d55af-8e4d-4f58-b8ac-331c331ebdf3",
        "colab": {
          "base_uri": "https://localhost:8080/"
        }
      },
      "execution_count": 85,
      "outputs": [
        {
          "output_type": "stream",
          "name": "stdout",
          "text": [
            "El modelo de árbol con datos de entrenamiento tiene una exactitud de 0.9206445993031359\n",
            "El modelo de árbol con datos de validación tiene una exactitud de 0.9055831373573731\n"
          ]
        }
      ]
    },
    {
      "cell_type": "markdown",
      "source": [
        "### Evaluando el modelo"
      ],
      "metadata": {
        "id": "WtlRAZt96VLG"
      }
    },
    {
      "cell_type": "code",
      "source": [
        "y_pred_val = modelo_arbol.predict(X_val)"
      ],
      "metadata": {
        "id": "IlUZBhPrPyYh"
      },
      "execution_count": 86,
      "outputs": []
    },
    {
      "cell_type": "code",
      "source": [
        "matriz_confusion = confusion_matrix(y_val, y_pred_val)\n",
        "matriz_confusion"
      ],
      "metadata": {
        "id": "iill3u5HPyOA",
        "outputId": "48349912-9c38-43f4-b076-07c79efa884c",
        "colab": {
          "base_uri": "https://localhost:8080/"
        }
      },
      "execution_count": 87,
      "outputs": [
        {
          "output_type": "execute_result",
          "data": {
            "text/plain": [
              "array([[10355,   124],\n",
              "       [  960,    42]])"
            ]
          },
          "metadata": {},
          "execution_count": 87
        }
      ]
    },
    {
      "cell_type": "code",
      "source": [
        "'''\n",
        "El siguiente código devuelve un objeto tipo AxesSubplot. El punto y coma\n",
        "silencia la salida textual, solicitando a Jupyter que muestre únicamente la\n",
        "visualización del gráfico.\n",
        "'''\n",
        "visualizacion = ConfusionMatrixDisplay(confusion_matrix=matriz_confusion)\n",
        "visualizacion.plot();"
      ],
      "metadata": {
        "id": "gtFWt6emPyJt",
        "outputId": "7f6a4b18-f215-4c93-f5b1-6c2255cd3109",
        "colab": {
          "base_uri": "https://localhost:8080/",
          "height": 449
        }
      },
      "execution_count": 88,
      "outputs": [
        {
          "output_type": "display_data",
          "data": {
            "text/plain": [
              "<Figure size 640x480 with 2 Axes>"
            ],
            "image/png": "[encoded data removed]"
          },
          "metadata": {}
        }
      ]
    },
    {
      "cell_type": "code",
      "source": [
        "visualizacion = ConfusionMatrixDisplay(confusion_matrix=matriz_confusion, display_labels=['Cumplido','Moroso'])\n",
        "visualizacion.plot();"
      ],
      "metadata": {
        "id": "qg0OgZeqPyGJ",
        "outputId": "71822fb7-f46d-4acc-a89e-9488aa357758",
        "colab": {
          "base_uri": "https://localhost:8080/",
          "height": 449
        }
      },
      "execution_count": 89,
      "outputs": [
        {
          "output_type": "display_data",
          "data": {
            "text/plain": [
              "<Figure size 640x480 with 2 Axes>"
            ],
            "image/png": "[encoded data removed]"
          },
          "metadata": {}
        }
      ]
    },
    {
      "cell_type": "markdown",
      "source": [
        "### Desafío 1 - aula 1\n",
        "Utilizamos durante la clase el algoritmo de árbol de decisión, pero la biblioteca Scikit-Learn tiene varios otros métodos de clasificación que pueden ser utilizados en nuestro proyecto. Como desafío, utiliza el algoritmo Random Forest para crear un modelo y evaluar el desempeño con la precisión y la matriz de confusión, y compara los resultados con el resultado del árbol de decisión.\n",
        "\n",
        "Como un consejo, revisa la documentación del algoritmo [RandomForestClassifier](https://scikit-learn.org/stable/modules/generated/sklearn.ensemble.RandomForestClassifier.html#sklearn.ensemble.RandomForestClassifier)."
      ],
      "metadata": {
        "id": "fBxKvIVHXs6M"
      }
    },
    {
      "cell_type": "markdown",
      "source": [
        "#### Entrenamiento del modelo"
      ],
      "metadata": {
        "id": "wF3x7gXDZVw0"
      }
    },
    {
      "cell_type": "code",
      "source": [
        "modelo_randomforest = RandomForestClassifier(max_depth=10, random_state=2)\n",
        "modelo_randomforest.fit(X_train, y_train)\n",
        "print(f'El modelo de randomforest con datos de entrenamiento tiene una exactitud de {modelo_randomforest.score(X_train, y_train)}')\n",
        "print(f'El modelo de randomforest con datos de validación tiene una exactitud de {modelo_randomforest.score(X_val, y_val)}')"
      ],
      "metadata": {
        "id": "tQfZpY8pX18E",
        "outputId": "b37b7058-f420-41ee-9eea-75ee4441a27d",
        "colab": {
          "base_uri": "https://localhost:8080/"
        }
      },
      "execution_count": 90,
      "outputs": [
        {
          "output_type": "stream",
          "name": "stdout",
          "text": [
            "El modelo de randomforest con datos de entrenamiento tiene una exactitud de 0.9151567944250871\n",
            "El modelo de randomforest con datos de validación tiene una exactitud de 0.9127253723543245\n"
          ]
        }
      ]
    },
    {
      "cell_type": "markdown",
      "source": [
        "#### Evaluando del modelo"
      ],
      "metadata": {
        "id": "eCgITlGyZcwG"
      }
    },
    {
      "cell_type": "code",
      "source": [
        "y_pred_val = modelo_randomforest.predict(X_val)\n",
        "matriz_confusion = confusion_matrix(y_val, y_pred_val)"
      ],
      "metadata": {
        "id": "dPd_7sq6ZRhQ"
      },
      "execution_count": 91,
      "outputs": []
    },
    {
      "cell_type": "code",
      "source": [
        "visualizacion = ConfusionMatrixDisplay(confusion_matrix=matriz_confusion, display_labels=['Cumplido','Moroso'])\n",
        "visualizacion.plot();"
      ],
      "metadata": {
        "id": "Jy3w5eSUZR6E",
        "outputId": "6ee0bec0-361c-4628-8172-d1cc76890a64",
        "colab": {
          "base_uri": "https://localhost:8080/",
          "height": 449
        }
      },
      "execution_count": 92,
      "outputs": [
        {
          "output_type": "display_data",
          "data": {
            "text/plain": [
              "<Figure size 640x480 with 2 Axes>"
            ],
            "image/png": "[encoded data removed]"
          },
          "metadata": {}
        }
      ]
    },
    {
      "cell_type": "markdown",
      "source": [
        "### Desafío 2 - aula 1\n",
        "Vamos a practicar el contenido que se presentó en la clase a partir de algunas actividades, pero utilizando un conjunto de datos diferente con datos de pacientes a ser diagnosticados con diabetes o no. Los desafíos siguen una secuencia de tareas, sirviendo como un proyecto secundario. Para realizar los desafíos, descarga la base de datos desde este [enlace](https://github.com/alura-es-cursos/2162-clasificacion-validacion-de-modelos-y-metricas/blob/desafios/diabetes.csv).\n",
        "\n",
        "1. Para la construcción de un modelo de machine learning se necesitan datos. Como tarea inicial, realiza la lectura de la base de datos de diabetes y divide los datos en variables explicativas y variable objetivo (x e y). La variable objetivo es la columna que quieres clasificar, que contiene la información de si el paciente tiene o no diabetes. Las variables explicativas son todas las columnas excepto la de diabetes. La separación de los datos se puede hacer con la selección de columnas con pandas.\n",
        "\n",
        "2. Una etapa muy importante en proyectos de clasificación es la validación de los modelos, para identificar si hay una generalización del modelo para datos nuevos. Realiza la división de los datos entre entrenamiento, validación y prueba. Utiliza el 5% de los datos para prueba y con el resto, deja el 25% para validación. En el momento de la separación, usa el parámetro stratify a partir de la variable objetivo para mantener la proporción de los datos.\n",
        "\n",
        "3. La etapa de modelado de datos consiste en utilizar un algoritmo capaz de identificar patrones en los datos y clasificar los valores. A partir del modelo es posible extraer una tasa de acierto para entender su desempeño. Crea 2 modelos utilizando los algoritmos DecisionTreeClassifier y RandomForestClassifier y evalúa la precisión de entrenamiento y prueba, eligiendo el valor 3 para el parámetro max_depth del algoritmo DecisionTreeClassifier y el valor 2 para el max_depth del algoritmo RandomForestClassifier, para que los modelos no se especialicen demasiado en el patrón de los datos de entrenamiento.\n",
        "\n",
        "4. La tasa de acierto generalmente no proporciona información suficiente para entender el comportamiento del modelo. La matriz de confusión es una herramienta más completa, capaz de proporcionar los aciertos y errores del modelo para cada clase. Construye una matriz de confusión para cada uno de los modelos para evaluar el desempeño de la predicción. Para construir la matriz, usa el método predict para generar las predicciones de los valores y comparar con los valores reales de la base de datos."
      ],
      "metadata": {
        "id": "w7Ef6grdX9yu"
      }
    },
    {
      "cell_type": "markdown",
      "source": [
        "#### Importación de los datos"
      ],
      "metadata": {
        "id": "-EFHSvQXe81e"
      }
    },
    {
      "cell_type": "code",
      "source": [
        "'''\n",
        "import chardet\n",
        "with open('/content/diabetes.csv','rb') as f:\n",
        "  diccionario = chardet.detect(f.read())\n",
        "  encode = diccionario['encoding']\n",
        "\n",
        "print(encode)\n",
        "'''"
      ],
      "metadata": {
        "id": "mO-GsUWYgMZT",
        "outputId": "7a53d59b-8129-4962-dd0f-e8c5a2063b51",
        "colab": {
          "base_uri": "https://localhost:8080/",
          "height": 36
        }
      },
      "execution_count": 93,
      "outputs": [
        {
          "output_type": "execute_result",
          "data": {
            "text/plain": [
              "\"\\nimport chardet\\nwith open('/content/diabetes.csv','rb') as f:\\n  diccionario = chardet.detect(f.read())\\n  encode = diccionario['encoding']\\n\\nprint(encode)\\n\""
            ],
            "application/vnd.google.colaboratory.intrinsic+json": {
              "type": "string"
            }
          },
          "metadata": {},
          "execution_count": 93
        }
      ]
    },
    {
      "cell_type": "code",
      "source": [
        "url_desafio = 'https://github.com/JLuceroVasquez/clasificacion-validacion-de-modelos-y-metricas/raw/refs/heads/main/desafio/diabetes.csv'\n",
        "datos_desafio = pd.read_csv(url_desafio, encoding='ascii')\n",
        "datos_desafio.info()"
      ],
      "metadata": {
        "id": "_zUEFTqhYANz",
        "outputId": "a12ac966-cc9f-449e-d132-8446256eae9f",
        "colab": {
          "base_uri": "https://localhost:8080/"
        }
      },
      "execution_count": 94,
      "outputs": [
        {
          "output_type": "stream",
          "name": "stdout",
          "text": [
            "<class 'pandas.core.frame.DataFrame'>\n",
            "RangeIndex: 394 entries, 0 to 393\n",
            "Data columns (total 6 columns):\n",
            " #   Column                    Non-Null Count  Dtype  \n",
            "---  ------                    --------------  -----  \n",
            " 0   glicemia                  394 non-null    int64  \n",
            " 1   presion_sanguinea         394 non-null    int64  \n",
            " 2   grasa_subcutanea_triceps  394 non-null    int64  \n",
            " 3   insulina                  394 non-null    float64\n",
            " 4   imc                       394 non-null    float64\n",
            " 5   diabetes                  394 non-null    int64  \n",
            "dtypes: float64(2), int64(4)\n",
            "memory usage: 18.6 KB\n"
          ]
        }
      ]
    },
    {
      "cell_type": "code",
      "source": [
        "X_d = datos_desafio.drop(columns='diabetes')\n",
        "y_d = datos_desafio.diabetes"
      ],
      "metadata": {
        "id": "5OKFpGfviwYr"
      },
      "execution_count": 95,
      "outputs": []
    },
    {
      "cell_type": "markdown",
      "source": [
        "#### División en 3 conjuntos de datos"
      ],
      "metadata": {
        "id": "F1rygJfkfIq4"
      }
    },
    {
      "cell_type": "code",
      "source": [
        "X_d, X_test_d, y_d, y_test_d = train_test_split(X_d, y_d, test_size=0.05, random_state=5, stratify=y_d)\n",
        "X_train_d, X_val_d, y_train_d, y_val_d = train_test_split(X_d, y_d, test_size=0.25, random_state=5, stratify=y_d)"
      ],
      "metadata": {
        "id": "jhqpN-DRfOrp"
      },
      "execution_count": 96,
      "outputs": []
    },
    {
      "cell_type": "markdown",
      "source": [
        "#### Entrenamiento de 2 modelos de clasificación"
      ],
      "metadata": {
        "id": "lR0Kstw0fPEM"
      }
    },
    {
      "cell_type": "code",
      "source": [
        "modelo_arbol_d = DecisionTreeClassifier(max_depth=3, random_state=2)\n",
        "modelo_arbol_d.fit(X_train_d, y_train_d)\n",
        "print(f'El modelo de árbol con datos de entrenamiento tiene una exactitud de {modelo_arbol_d.score(X_train_d, y_train_d)}')\n",
        "print(f'El modelo de árbol con datos de validación tiene una exactitud de {modelo_arbol_d.score(X_val_d, y_val_d)}')"
      ],
      "metadata": {
        "id": "HpFpDG_mfZIU",
        "outputId": "29c39134-9fd2-4177-8d8c-cfb8f3424908",
        "colab": {
          "base_uri": "https://localhost:8080/"
        }
      },
      "execution_count": 97,
      "outputs": [
        {
          "output_type": "stream",
          "name": "stdout",
          "text": [
            "El modelo de árbol con datos de entrenamiento tiene una exactitud de 0.7571428571428571\n",
            "El modelo de árbol con datos de validación tiene una exactitud de 0.776595744680851\n"
          ]
        }
      ]
    },
    {
      "cell_type": "code",
      "source": [
        "modelo_randomforest_d = RandomForestClassifier(max_depth=2, random_state=2)\n",
        "modelo_randomforest_d.fit(X_train_d, y_train_d)\n",
        "print(f'El modelo de randomforest con datos de entrenamiento tiene una exactitud de {modelo_randomforest_d.score(X_train_d, y_train_d)}')\n",
        "print(f'El modelo de randomforest con datos de validación tiene una exactitud de {modelo_randomforest_d.score(X_val_d, y_val_d)}')"
      ],
      "metadata": {
        "id": "h7xseHkkku1z",
        "outputId": "8d917fba-74c2-4b77-f230-020a4ab10406",
        "colab": {
          "base_uri": "https://localhost:8080/"
        }
      },
      "execution_count": 98,
      "outputs": [
        {
          "output_type": "stream",
          "name": "stdout",
          "text": [
            "El modelo de randomforest con datos de entrenamiento tiene una exactitud de 0.7357142857142858\n",
            "El modelo de randomforest con datos de validación tiene una exactitud de 0.6914893617021277\n"
          ]
        }
      ]
    },
    {
      "cell_type": "markdown",
      "source": [
        "#### Matriz de confusión"
      ],
      "metadata": {
        "id": "RVmLE3zSfZjc"
      }
    },
    {
      "cell_type": "code",
      "source": [
        "y_pred_val_d = modelo_arbol_d.predict(X_val_d)\n",
        "matriz_confusion = confusion_matrix(y_val_d, y_pred_val_d)\n",
        "visualizacion = ConfusionMatrixDisplay(confusion_matrix=matriz_confusion, display_labels=['No diabético','Diabético'])\n",
        "visualizacion.plot();"
      ],
      "metadata": {
        "id": "zREGYoYUfoId",
        "outputId": "73ec6d7a-5961-450d-d068-22265359b80d",
        "colab": {
          "base_uri": "https://localhost:8080/",
          "height": 449
        }
      },
      "execution_count": 99,
      "outputs": [
        {
          "output_type": "display_data",
          "data": {
            "text/plain": [
              "<Figure size 640x480 with 2 Axes>"
            ],
            "image/png": "[encoded data removed]"
          },
          "metadata": {}
        }
      ]
    },
    {
      "cell_type": "code",
      "source": [
        "y_pred_val_d = modelo_randomforest_d.predict(X_val_d)\n",
        "matriz_confusion = confusion_matrix(y_val_d, y_pred_val_d)\n",
        "visualizacion = ConfusionMatrixDisplay(confusion_matrix=matriz_confusion, display_labels=['No diabético','Diabético'])\n",
        "visualizacion.plot();"
      ],
      "metadata": {
        "id": "D5aJiPZQmR_o",
        "outputId": "7c3f1f33-1c21-4d19-eab2-ae837cd750bd",
        "colab": {
          "base_uri": "https://localhost:8080/",
          "height": 449
        }
      },
      "execution_count": 100,
      "outputs": [
        {
          "output_type": "display_data",
          "data": {
            "text/plain": [
              "<Figure size 640x480 with 2 Axes>"
            ],
            "image/png": "[encoded data removed]"
          },
          "metadata": {}
        }
      ]
    },
    {
      "cell_type": "markdown",
      "source": [
        "## <font color='dark'>Métricas de evaluación</h1>"
      ],
      "metadata": {
        "id": "tPogL-24ntSH"
      }
    },
    {
      "cell_type": "markdown",
      "source": [
        "### Exactitud, precisión y recall (sensibilidad)."
      ],
      "metadata": {
        "id": "nP1WfyyR6XMl"
      }
    },
    {
      "cell_type": "markdown",
      "source": [
        "<a href=\"https://ibb.co/351SbY7t\"><img src=\"https://i.ibb.co/wZypqrRD/matriz-confusion.png\" alt=\"matriz-confusion\" border=\"0\"></a>"
      ],
      "metadata": {
        "id": "oE8N0NqoH6hy"
      }
    },
    {
      "cell_type": "markdown",
      "source": [
        "<a href=\"https://imgbb.com/\"><img src=\"https://i.ibb.co/6Jp6rKyC/Captura-de-tela-2025-03-22-120744.png\" alt=\"Captura-de-tela-2025-03-22-120744\" border=\"0\"></a>"
      ],
      "metadata": {
        "id": "k0ldCSgoZiPX"
      }
    },
    {
      "cell_type": "code",
      "source": [
        "#Se evaluará el modelo de árbol por presentar menos falsos negativos (falsos no morosos)\n",
        "y_pred_val = modelo_arbol.predict(X_val)"
      ],
      "metadata": {
        "id": "rnoHn9qTaBmB"
      },
      "execution_count": 101,
      "outputs": []
    },
    {
      "cell_type": "code",
      "source": [
        "accuracy_modelo_arbol = \"{:.4f}\".format(accuracy_score(y_val, y_pred_val))\n",
        "print(f'La exactitud del modelo de árbol es {accuracy_modelo_arbol}')"
      ],
      "metadata": {
        "id": "QnGxEIrWPmbx",
        "outputId": "28c9ae63-92fb-4d9c-9a9d-829b6aa4a837",
        "colab": {
          "base_uri": "https://localhost:8080/"
        }
      },
      "execution_count": 102,
      "outputs": [
        {
          "output_type": "stream",
          "name": "stdout",
          "text": [
            "La exactitud del modelo de árbol es 0.9056\n"
          ]
        }
      ]
    },
    {
      "cell_type": "code",
      "source": [
        "precision_modelo_arbol = \"{:.4f}\".format(precision_score(y_val, y_pred_val))\n",
        "print(f'La precisión del modelo de árbol es {precision_modelo_arbol}')"
      ],
      "metadata": {
        "id": "7C7NoVZnPmX1",
        "outputId": "c57737fd-c8c4-4132-c37f-a027472e1518",
        "colab": {
          "base_uri": "https://localhost:8080/"
        }
      },
      "execution_count": 103,
      "outputs": [
        {
          "output_type": "stream",
          "name": "stdout",
          "text": [
            "La precisión del modelo de árbol es 0.2530\n"
          ]
        }
      ]
    },
    {
      "cell_type": "code",
      "source": [
        "recall_modelo_arbol = \"{:.4f}\".format(recall_score(y_val, y_pred_val))\n",
        "print(f'La sensibilidad del modelo de árbol es {recall_modelo_arbol}')"
      ],
      "metadata": {
        "id": "u2SqICFJPmU-",
        "outputId": "d4410f74-16f6-44e6-dda8-fe11865c7326",
        "colab": {
          "base_uri": "https://localhost:8080/"
        }
      },
      "execution_count": 104,
      "outputs": [
        {
          "output_type": "stream",
          "name": "stdout",
          "text": [
            "La sensibilidad del modelo de árbol es 0.0419\n"
          ]
        }
      ]
    },
    {
      "cell_type": "code",
      "source": [
        "f1_modelo_arbol = \"{:.4f}\".format(f1_score(y_val, y_pred_val))\n",
        "print(f'El puntaje F1 d del modelo de árbol es {f1_modelo_arbol}')"
      ],
      "metadata": {
        "id": "qEeSEbwhY3cz",
        "outputId": "e4269375-4f60-4f61-a026-768bc05f8cec",
        "colab": {
          "base_uri": "https://localhost:8080/"
        }
      },
      "execution_count": 105,
      "outputs": [
        {
          "output_type": "stream",
          "name": "stdout",
          "text": [
            "El puntaje F1 d del modelo de árbol es 0.0719\n"
          ]
        }
      ]
    },
    {
      "cell_type": "markdown",
      "source": [
        "### Curva ROC"
      ],
      "metadata": {
        "id": "I8ELhexg2jNx"
      }
    },
    {
      "cell_type": "code",
      "source": [
        "from IPython.display import Image\n",
        "Image(url='https://raw.githubusercontent.com/dariyasydykova/open_projects/master/ROC_animation/animations/cutoff.gif')"
      ],
      "metadata": {
        "colab": {
          "base_uri": "https://localhost:8080/",
          "height": 421
        },
        "id": "PhUNE4Xm4MII",
        "outputId": "4d3e59b2-a498-4ae3-991b-64dd2c70dec8"
      },
      "execution_count": 106,
      "outputs": [
        {
          "output_type": "execute_result",
          "data": {
            "text/html": [
              "<img src=\"https://raw.githubusercontent.com/dariyasydykova/open_projects/master/ROC_animation/animations/cutoff.gif\"/>"
            ],
            "text/plain": [
              "<IPython.core.display.Image object>"
            ]
          },
          "metadata": {},
          "execution_count": 106
        }
      ]
    },
    {
      "cell_type": "markdown",
      "source": [
        "Fuente: [paulvanderlaken.com](https://paulvanderlaken.com/2019/08/16/roc-auc-precision-and-recall-visually-explained/)\n",
        "\n",
        "\n"
      ],
      "metadata": {
        "id": "XK8_7Ruy32BT"
      }
    },
    {
      "cell_type": "code",
      "source": [
        "RocCurveDisplay.from_predictions(y_val, y_pred_val, name='Curva ROC del modelo árbol');"
      ],
      "metadata": {
        "id": "V6Ua2rY3PhFt",
        "outputId": "9e3f4a45-7477-480f-f3ce-d5d4a48fffbd",
        "colab": {
          "base_uri": "https://localhost:8080/",
          "height": 451
        }
      },
      "execution_count": 107,
      "outputs": [
        {
          "output_type": "display_data",
          "data": {
            "text/plain": [
              "<Figure size 640x480 with 1 Axes>"
            ],
            "image/png": "[encoded data removed]"
          },
          "metadata": {}
        }
      ]
    },
    {
      "cell_type": "code",
      "source": [
        "print(f'El área bajo la curva ROC del modelo de árbol es: {roc_auc_score(y_val, y_pred_val):.4f}')"
      ],
      "metadata": {
        "id": "LJE-yyWMPg8R",
        "outputId": "a4ea480f-d78e-4e82-9656-b0426e3ec82a",
        "colab": {
          "base_uri": "https://localhost:8080/"
        }
      },
      "execution_count": 108,
      "outputs": [
        {
          "output_type": "stream",
          "name": "stdout",
          "text": [
            "El área bajo la curva ROC del modelo de árbol es: 0.5150\n"
          ]
        }
      ]
    },
    {
      "cell_type": "markdown",
      "source": [
        "### Curva de  precisión x sensibilidad"
      ],
      "metadata": {
        "id": "IztSEZfh7QFe"
      }
    },
    {
      "cell_type": "code",
      "source": [
        "Image(url='https://paulvanderlaken.com/wp-content/uploads/2019/08/roc.gif')"
      ],
      "metadata": {
        "colab": {
          "base_uri": "https://localhost:8080/",
          "height": 421
        },
        "id": "EJzfjuxa3fxD",
        "outputId": "519fcdcb-c5a6-408a-9dd1-3125008f5935"
      },
      "execution_count": 109,
      "outputs": [
        {
          "output_type": "execute_result",
          "data": {
            "text/html": [
              "<img src=\"https://paulvanderlaken.com/wp-content/uploads/2019/08/roc.gif\"/>"
            ],
            "text/plain": [
              "<IPython.core.display.Image object>"
            ]
          },
          "metadata": {},
          "execution_count": 109
        }
      ]
    },
    {
      "cell_type": "markdown",
      "source": [
        "Fuente: [paulvanderlaken.com](https://paulvanderlaken.com/2019/08/16/roc-auc-precision-and-recall-visually-explained/)\n"
      ],
      "metadata": {
        "id": "bUoGCSUB4msC"
      }
    },
    {
      "cell_type": "code",
      "source": [
        "PrecisionRecallDisplay.from_predictions(y_val, y_pred_val, name='Curva de precisión x sensibilidad del modelo árbol');"
      ],
      "metadata": {
        "id": "7t20ira6Pcds",
        "outputId": "6a8717a4-88bf-4774-ab89-558ca3361e4b",
        "colab": {
          "base_uri": "https://localhost:8080/",
          "height": 451
        }
      },
      "execution_count": 110,
      "outputs": [
        {
          "output_type": "display_data",
          "data": {
            "text/plain": [
              "<Figure size 640x480 with 1 Axes>"
            ],
            "image/png": "[encoded data removed]"
          },
          "metadata": {}
        }
      ]
    },
    {
      "cell_type": "code",
      "source": [
        "print(f'La precisión promedio para distintos valores de sensibilidad en el modelo de árbol es: {average_precision_score(y_val, y_pred_val)}')"
      ],
      "metadata": {
        "id": "Drs3Z6RTPcTc",
        "outputId": "4734fe13-d6ed-4b90-b1e5-4742a143f722",
        "colab": {
          "base_uri": "https://localhost:8080/"
        }
      },
      "execution_count": 111,
      "outputs": [
        {
          "output_type": "stream",
          "name": "stdout",
          "text": [
            "La precisión promedio para distintos valores de sensibilidad en el modelo de árbol es: 0.09422170515363755\n"
          ]
        }
      ]
    },
    {
      "cell_type": "markdown",
      "source": [
        "### Informe de métricas\n",
        "\n",
        "Del reporte generado, con los 11481 datos del conjunto de validación, se observa que el modelo no arroja predicciones muy buenas para la categoría positiva (1) que representa a los morosos. Esto se refleja en que aunque la exactitud del modelo es 0.91, su f1-score para 1 es de 0.07."
      ],
      "metadata": {
        "id": "Bm2E6GEJDJLH"
      }
    },
    {
      "cell_type": "code",
      "source": [
        "reporte = classification_report(y_val, y_pred_val)\n",
        "print(reporte)"
      ],
      "metadata": {
        "id": "pnN6QRlYPZQR",
        "outputId": "ea8ff7e6-05e3-4505-d31f-024a394bc0f9",
        "colab": {
          "base_uri": "https://localhost:8080/"
        }
      },
      "execution_count": 112,
      "outputs": [
        {
          "output_type": "stream",
          "name": "stdout",
          "text": [
            "              precision    recall  f1-score   support\n",
            "\n",
            "           0       0.92      0.99      0.95     10479\n",
            "           1       0.25      0.04      0.07      1002\n",
            "\n",
            "    accuracy                           0.91     11481\n",
            "   macro avg       0.58      0.52      0.51     11481\n",
            "weighted avg       0.86      0.91      0.87     11481\n",
            "\n"
          ]
        }
      ]
    },
    {
      "cell_type": "markdown",
      "source": [
        "### Desafío - aula 2\n",
        "\n",
        " Los desafíos siguen una secuencia de tareas, sirviendo como un proyecto secundario. Para realizar los desafíos, descarga la base de datos desde este [enlace](https://github.com/alura-es-cursos/2162-clasificacion-validacion-de-modelos-y-metricas/blob/desafios/diabetes.csv).\n",
        "\n",
        "Estos desafíos dependen del modelo generado en los desafíos de la clase 1.\n",
        "\n",
        "1. Para una evaluación completa de un modelo de clasificación, podemos explorar métricas que evalúan la tasa de acierto general y también para cada clase de la variable objetivo de forma individual. Extrae las métricas de precisión, recall, precisión y F1-Score de los modelos de clasificación generados en el desafío de la clase 1. La biblioteca Scikit-Learn tiene funciones para calcular cada una de las métricas, solo necesitas importar y utilizar como parámetros los valores reales y previstos por el modelo.\n",
        "\n",
        "2. Además de métricas numéricas, se pueden explorar gráficos para evaluar el rendimiento de un modelo y comprender si puede diferenciar bien una clase de otra. Obtén la curva ROC y la métrica AUC de los modelos de clasificación generados en el desafío de la clase 1, comparando las curvas en el mismo gráfico. La curva ROC se puede generar usando el método RocCurveDisplay.from_predictions.\n",
        "\n",
        "3. Además de la curva ROC, la curva de precisión x recall se puede usar para evaluar el rendimiento de modelos, siendo más interesante para datos desbalanceados. Obtén la curva de precisión x recall y la métrica AP de los modelos de clasificación generados en el desafío de la clase 1, comparando las curvas en el mismo gráfico. La curva de precisión x recall se puede generar usando el método PrecisionRecallDisplay.from_predictions.\n",
        "\n",
        "4. Un resumen de las principales métricas de clasificación puede ser muy útil para resumir la información y generar insights de forma rápida. Genera los informes de métricas de los modelos de clasificación construidos en el desafío de la clase 1. El informe de métricas se puede generar a partir de la función classification_report de la biblioteca Scikit-Learn."
      ],
      "metadata": {
        "id": "Bz_NvK3ofzTw"
      }
    },
    {
      "cell_type": "markdown",
      "source": [
        "#### Métricas de precisión, recall y F1-Score"
      ],
      "metadata": {
        "id": "i0V70XUmgB8Z"
      }
    },
    {
      "cell_type": "code",
      "source": [
        "#Datos predichos del modelo arbol\n",
        "y_pred_val_d = modelo_arbol_d.predict(X_val_d)\n",
        "\n",
        "#Métricas de precisión, recall y F1-Score\n",
        "precision_modelo_arbol_d = \"{:.4f}\".format(precision_score(y_val_d, y_pred_val_d))\n",
        "recall_modelo_arbol_d = \"{:.4f}\".format(recall_score(y_val_d, y_pred_val_d))\n",
        "f1_modelo_arbol_d = \"{:.4f}\".format(f1_score(y_val_d, y_pred_val_d))\n",
        "\n",
        "#Impresión de las métricas\n",
        "print(f' Respecto a la base de datos con pacientes de diabetes,\\n',\n",
        "      f'las métricas para el modelo árbol fueron:\\n',\n",
        "      f'Precisión: {precision_modelo_arbol_d}\\n',\n",
        "      f'Recall:{recall_modelo_arbol_d}\\n',\n",
        "      f'F1: {f1_modelo_arbol_d}')"
      ],
      "metadata": {
        "id": "jlwvjd9CgSw9",
        "outputId": "a9419f1b-eed2-42cb-9616-d828308924ab",
        "colab": {
          "base_uri": "https://localhost:8080/"
        }
      },
      "execution_count": 113,
      "outputs": [
        {
          "output_type": "stream",
          "name": "stdout",
          "text": [
            " Respecto a la base de datos con pacientes de diabetes,\n",
            " las métricas para el modelo árbol fueron:\n",
            " Precisión: 0.6562\n",
            " Recall:0.6774\n",
            " F1: 0.6667\n"
          ]
        }
      ]
    },
    {
      "cell_type": "code",
      "source": [
        "#Datos predichos del modelo random forest\n",
        "y_pred_val_d = modelo_randomforest_d.predict(X_val_d)\n",
        "\n",
        "precision_modelo_randomforest_d = \"{:.4f}\".format(precision_score(y_val_d, y_pred_val_d))\n",
        "recall_modelo_randomforest_d = \"{:.4f}\".format(recall_score(y_val_d, y_pred_val_d))\n",
        "f1_modelo_randomforest_d = \"{:.4f}\".format(f1_score(y_val_d, y_pred_val_d))\n",
        "\n",
        "#Impresión de las métricas\n",
        "print(f' Respecto a la base de datos con pacientes de diabetes,\\n',\n",
        "      f'las métricas para el modelo árbol fueron:\\n',\n",
        "      f'Precisión: {precision_modelo_randomforest_d}\\n',\n",
        "      f'Recall:{recall_modelo_randomforest_d}\\n',\n",
        "      f'F1: {f1_modelo_randomforest_d}')"
      ],
      "metadata": {
        "id": "VMPkAUlngTCT",
        "outputId": "e41e7f35-08a1-4def-d336-87ee964149d3",
        "colab": {
          "base_uri": "https://localhost:8080/"
        }
      },
      "execution_count": 114,
      "outputs": [
        {
          "output_type": "stream",
          "name": "stdout",
          "text": [
            " Respecto a la base de datos con pacientes de diabetes,\n",
            " las métricas para el modelo árbol fueron:\n",
            " Precisión: 0.5833\n",
            " Recall:0.2258\n",
            " F1: 0.3256\n"
          ]
        }
      ]
    },
    {
      "cell_type": "markdown",
      "source": [
        "#### Curva ROC y métrica AUC"
      ],
      "metadata": {
        "id": "UEsamCd9gT98"
      }
    },
    {
      "cell_type": "code",
      "source": [
        "y_pred_val_d = modelo_arbol_d.predict(X_val_d)\n",
        "RocCurveDisplay.from_predictions(y_val_d, y_pred_val_d, name='Curva ROC del modelo árbol');\n",
        "print(f'El área bajo la curva ROC del modelo de árbol es: {roc_auc_score(y_val_d, y_pred_val_d):.4f}')"
      ],
      "metadata": {
        "id": "sZAmBLv7gbb0",
        "outputId": "1eade96d-d88f-4a41-b90f-73d5a25082c7",
        "colab": {
          "base_uri": "https://localhost:8080/",
          "height": 469
        }
      },
      "execution_count": 115,
      "outputs": [
        {
          "output_type": "stream",
          "name": "stdout",
          "text": [
            "El área bajo la curva ROC del modelo de árbol es: 0.7514\n"
          ]
        },
        {
          "output_type": "display_data",
          "data": {
            "text/plain": [
              "<Figure size 640x480 with 1 Axes>"
            ],
            "image/png": "[encoded data removed]"
          },
          "metadata": {}
        }
      ]
    },
    {
      "cell_type": "code",
      "source": [
        "y_pred_val_d = modelo_randomforest_d.predict(X_val_d)\n",
        "RocCurveDisplay.from_predictions(y_val_d, y_pred_val_d, name='Curva ROC del modelo random forest');\n",
        "print(f'El área bajo la curva ROC del modelo de random forest es: {roc_auc_score(y_val_d, y_pred_val_d):.4f}')"
      ],
      "metadata": {
        "id": "5yvPx-evgdZd",
        "outputId": "f65fd75d-be78-470a-8e25-5c49c6aa4458",
        "colab": {
          "base_uri": "https://localhost:8080/",
          "height": 469
        }
      },
      "execution_count": 116,
      "outputs": [
        {
          "output_type": "stream",
          "name": "stdout",
          "text": [
            "El área bajo la curva ROC del modelo de random forest es: 0.5732\n"
          ]
        },
        {
          "output_type": "display_data",
          "data": {
            "text/plain": [
              "<Figure size 640x480 with 1 Axes>"
            ],
            "image/png": "[encoded data removed]"
          },
          "metadata": {}
        }
      ]
    },
    {
      "cell_type": "markdown",
      "source": [
        "Curva precisión x sensibilidad y métrica AP"
      ],
      "metadata": {
        "id": "wWWaPuj4gffm"
      }
    },
    {
      "cell_type": "code",
      "source": [
        "y_pred_val_d = modelo_arbol_d.predict(X_val_d)\n",
        "PrecisionRecallDisplay.from_predictions(y_val_d, y_pred_val_d, name='Curva de precisión x sensibilidad del modelo árbol');\n",
        "print(f'La precisión promedio para distintos valores de sensibilidad en el modelo de árbol es: {average_precision_score(y_val_d, y_pred_val_d):.4f}')"
      ],
      "metadata": {
        "id": "BFeuKET-gi32",
        "outputId": "e66e4d45-c5a1-4546-c089-15790fb796d7",
        "colab": {
          "base_uri": "https://localhost:8080/",
          "height": 469
        }
      },
      "execution_count": 117,
      "outputs": [
        {
          "output_type": "stream",
          "name": "stdout",
          "text": [
            "La precisión promedio para distintos valores de sensibilidad en el modelo de árbol es: 0.5509\n"
          ]
        },
        {
          "output_type": "display_data",
          "data": {
            "text/plain": [
              "<Figure size 640x480 with 1 Axes>"
            ],
            "image/png": "[encoded data removed]"
          },
          "metadata": {}
        }
      ]
    },
    {
      "cell_type": "code",
      "source": [
        "y_pred_val_d = modelo_randomforest_d.predict(X_val_d)\n",
        "PrecisionRecallDisplay.from_predictions(y_val_d, y_pred_val_d, name='Curva de precisión x sensibilidad del modelo randomforest');\n",
        "print(f'La precisión promedio para distintos valores de sensibilidad en el modelo de randomforest es: {average_precision_score(y_val_d, y_pred_val_d):.4f}')"
      ],
      "metadata": {
        "id": "Q34pngvtgjC2",
        "outputId": "0990fcd1-16c9-4e13-e8b5-d5cc925b370d",
        "colab": {
          "base_uri": "https://localhost:8080/",
          "height": 469
        }
      },
      "execution_count": 118,
      "outputs": [
        {
          "output_type": "stream",
          "name": "stdout",
          "text": [
            "La precisión promedio para distintos valores de sensibilidad en el modelo de randomforest es: 0.3870\n"
          ]
        },
        {
          "output_type": "display_data",
          "data": {
            "text/plain": [
              "<Figure size 640x480 with 1 Axes>"
            ],
            "image/png": "[encoded data removed]"
          },
          "metadata": {}
        }
      ]
    },
    {
      "cell_type": "markdown",
      "source": [
        "#### Informe de métricas"
      ],
      "metadata": {
        "id": "E8pPan9VgkKu"
      }
    },
    {
      "cell_type": "code",
      "source": [
        "y_pred_val_d = modelo_arbol_d.predict(X_val_d)\n",
        "reporte = classification_report(y_val_d, y_pred_val_d)\n",
        "print('Reporte de métricas para el modelo árbol')\n",
        "print('--'*27)\n",
        "print(reporte)"
      ],
      "metadata": {
        "id": "wTTN6hjcgnZA",
        "outputId": "f955061b-4d44-408e-cf9b-552b44c653dd",
        "colab": {
          "base_uri": "https://localhost:8080/"
        }
      },
      "execution_count": 119,
      "outputs": [
        {
          "output_type": "stream",
          "name": "stdout",
          "text": [
            "Reporte de métricas para el modelo árbol\n",
            "------------------------------------------------------\n",
            "              precision    recall  f1-score   support\n",
            "\n",
            "           0       0.84      0.83      0.83        63\n",
            "           1       0.66      0.68      0.67        31\n",
            "\n",
            "    accuracy                           0.78        94\n",
            "   macro avg       0.75      0.75      0.75        94\n",
            "weighted avg       0.78      0.78      0.78        94\n",
            "\n"
          ]
        }
      ]
    },
    {
      "cell_type": "code",
      "source": [
        "y_pred_val_d = modelo_randomforest_d.predict(X_val_d)\n",
        "reporte = classification_report(y_val_d, y_pred_val_d)\n",
        "print('Reporte de métricas para el modelo random forest')\n",
        "print('--'*27)\n",
        "print(reporte)"
      ],
      "metadata": {
        "id": "MGUQsUEZgns2",
        "outputId": "f2c4cedb-7845-4ccb-bceb-db940bdc3d8a",
        "colab": {
          "base_uri": "https://localhost:8080/"
        }
      },
      "execution_count": 120,
      "outputs": [
        {
          "output_type": "stream",
          "name": "stdout",
          "text": [
            "Reporte de métricas para el modelo random forest\n",
            "------------------------------------------------------\n",
            "              precision    recall  f1-score   support\n",
            "\n",
            "           0       0.71      0.92      0.80        63\n",
            "           1       0.58      0.23      0.33        31\n",
            "\n",
            "    accuracy                           0.69        94\n",
            "   macro avg       0.65      0.57      0.56        94\n",
            "weighted avg       0.67      0.69      0.64        94\n",
            "\n"
          ]
        }
      ]
    },
    {
      "cell_type": "markdown",
      "source": [
        "## <font color='dark'> Validación cruzada</h1>"
      ],
      "metadata": {
        "id": "SuxCy_oZZQxE"
      }
    },
    {
      "cell_type": "markdown",
      "source": [
        "### Usando KFold"
      ],
      "metadata": {
        "id": "17q2T0iRnzSg"
      }
    },
    {
      "cell_type": "markdown",
      "source": [
        "La validación del modelo de clasificación a partir de la separación de los datos en conjuntos de entrenamiento y validación hace que el resultado dependa en gran medida de esta división. Puede suceder que, de forma aleatoria, el patrón de los datos de validación sea diferente al de los datos de entrenamiento, lo que podría llevar a obtener un resultado mucho mejor o mucho peor que la realidad simplemente por suerte o mala suerte.  \n",
        "\n",
        "Teniendo esto en cuenta, es posible utilizar la **validación cruzada**, una estrategia más consistente y ampliamente utilizada en proyectos de *machine learning*.  \n",
        "\n",
        "En la validación cruzada, en lugar de separar los datos en entrenamiento y validación una sola vez, se dividen en varias partes de igual tamaño. En cada una de estas divisiones, se usa una parte para validación y todas las demás para entrenamiento. Este proceso se repite hasta que todas las partes hayan sido utilizadas tanto para validación como para entrenamiento.  \n",
        "\n",
        "Se generará un modelo para cada una de estas divisiones y la evaluación del desempeño se realizará promediando la métrica de cada modelo. Esto elimina la dependencia de la separación de los datos, ya que hay una mayor variación en la selección de los mismos y se obtiene un valor medio.  \n",
        "\n",
        "Generalmente, se utilizan 5 o 10 partes. Un número mayor no suele ser necesario, ya que implica un procesamiento más costoso, y valores menores ya ayudan a mitigar el problema de la selección de los datos."
      ],
      "metadata": {
        "id": "zjfYnDWJ6C2A"
      }
    },
    {
      "cell_type": "markdown",
      "source": [
        "<a href=\"https://ibb.co/KcBtshJR\"><img src=\"https://i.ibb.co/nq4X1mFZ/train-y-validacion.png\" alt=\"train-y-validacion\" border=\"0\"></a>"
      ],
      "metadata": {
        "id": "oSboV-QNMG__"
      }
    },
    {
      "cell_type": "code",
      "source": [
        "#Se usó el modelo de árbol por tener mejor recall que el modelo random forest\n",
        "modelo_arbol = DecisionTreeClassifier(max_depth=10, random_state=5)\n",
        "\n",
        "#Se almacena la forma en que se dividirán los datos\n",
        "kf = KFold(n_splits=5, shuffle=True, random_state=5)\n",
        "\n",
        "#Se subdivide, entrena y valida con cada subconjunto de entrenamiento y validación\n",
        "validacion_cruzada_accuracy = cross_validate(estimator = modelo_arbol, X=X, y=y, cv=kf)\n",
        "validacion_cruzada_accuracy"
      ],
      "metadata": {
        "id": "McSadnzDPI4G",
        "outputId": "6f12888e-2b68-45c0-b09c-355f87f0ca63",
        "colab": {
          "base_uri": "https://localhost:8080/"
        }
      },
      "execution_count": 121,
      "outputs": [
        {
          "output_type": "execute_result",
          "data": {
            "text/plain": [
              "{'fit_time': array([0.25102043, 0.25304842, 0.24273634, 0.23775291, 0.2601614 ]),\n",
              " 'score_time': array([0.00360584, 0.00347281, 0.00343943, 0.00427675, 0.00407982]),\n",
              " 'test_score': array([0.9127926 , 0.90733885, 0.90755662, 0.91343641, 0.89993467])}"
            ]
          },
          "metadata": {},
          "execution_count": 121
        }
      ]
    },
    {
      "cell_type": "code",
      "source": [
        "#Se calcula el promedio y desviación estándar de los scores de exactitud\n",
        "exactitud_promedio = validacion_cruzada_accuracy['test_score'].mean()\n",
        "exactitud_std = validacion_cruzada_accuracy['test_score'].std()\n",
        "print(f' En 5 conjuntos de validación, los resultados de exactitud del modelo de arbol fueron:\\n',\n",
        "      f'Exactitud promedio: {exactitud_promedio:.4f}.\\n',\n",
        "      f'Desviación estándar: {exactitud_std:.4f}.\\n',\n",
        "      f'Intervalo del confianza: ({(exactitud_promedio - 2*exactitud_std):.4f};{min(exactitud_promedio + 2*exactitud_std,1):.4f})')"
      ],
      "metadata": {
        "id": "o5oZ8-lhPIy_",
        "outputId": "9801df0c-eddb-4b70-f5c3-e7241f4190cf",
        "colab": {
          "base_uri": "https://localhost:8080/"
        }
      },
      "execution_count": 122,
      "outputs": [
        {
          "output_type": "stream",
          "name": "stdout",
          "text": [
            " En 5 conjuntos de validación, los resultados de exactitud del modelo de arbol fueron:\n",
            " Exactitud promedio: 0.9082.\n",
            " Desviación estándar: 0.0049.\n",
            " Intervalo del confianza: (0.8985;0.9179)\n"
          ]
        }
      ]
    },
    {
      "cell_type": "markdown",
      "source": [
        "### Validación cruzada con sensibilidad\n",
        "Se puede especificar la métrica calculada en el método [cross_validate](https://scikit-learn.org/stable/modules/generated/sklearn.model_selection.cross_validate.html) mediante el parámetro scoring, el cuál recibe una sola métrica en forma de [cadena de texto](https://scikit-learn.org/stable/modules/model_evaluation.html#scoring-string-names) o muchas métricas en forma de tupla, lista o diccionario."
      ],
      "metadata": {
        "id": "GAHrtLM2OCjO"
      }
    },
    {
      "cell_type": "code",
      "source": [
        "def intervaloconfianza(resultado, metrica):\n",
        "  score_name = f'test_{metrica}'\n",
        "  metrica_promedio = resultado[score_name].mean()\n",
        "  metrica_std = resultado[score_name].std()\n",
        "  return f'Intervalo del confianza para {metrica} es: ({(metrica_promedio - 2*metrica_std):.4f};{min(metrica_promedio + 2*metrica_std,1):.4f})'"
      ],
      "metadata": {
        "id": "JHHvvXdhViQs"
      },
      "execution_count": 123,
      "outputs": []
    },
    {
      "cell_type": "code",
      "source": [
        "#Se calcula la métrica recall cuyos valores figurarán en la clave 'TEST_SCORE'.\n",
        "modelo_arbol = DecisionTreeClassifier(max_depth=10, random_state=5)\n",
        "kf = KFold(n_splits=5, shuffle=True, random_state=5)\n",
        "validacion_cruzada_recall = cross_validate(estimator = modelo_arbol, X=X, y=y, cv=kf, scoring=['recall'])\n",
        "validacion_cruzada_recall"
      ],
      "metadata": {
        "id": "Ywfsoe3_PLYZ",
        "outputId": "eb5690ef-2697-479e-b84f-f1caf71afbc6",
        "colab": {
          "base_uri": "https://localhost:8080/"
        }
      },
      "execution_count": 124,
      "outputs": [
        {
          "output_type": "execute_result",
          "data": {
            "text/plain": [
              "{'fit_time': array([0.27863741, 0.26191378, 0.2447691 , 0.24807072, 0.26146388]),\n",
              " 'score_time': array([0.00662017, 0.00596237, 0.00595617, 0.00665402, 0.00610304]),\n",
              " 'test_recall': array([0.02642008, 0.01856436, 0.0196802 , 0.0156658 , 0.02427746])}"
            ]
          },
          "metadata": {},
          "execution_count": 124
        }
      ]
    },
    {
      "cell_type": "code",
      "source": [
        "intervaloconfianza(validacion_cruzada_recall, 'recall')"
      ],
      "metadata": {
        "id": "PV3m-6IxPLMf",
        "outputId": "8590e161-7ef3-4ff2-aa31-fa4b031633ee",
        "colab": {
          "base_uri": "https://localhost:8080/",
          "height": 36
        }
      },
      "execution_count": 125,
      "outputs": [
        {
          "output_type": "execute_result",
          "data": {
            "text/plain": [
              "'Intervalo del confianza para recall es: (0.0131;0.0287)'"
            ],
            "application/vnd.google.colaboratory.intrinsic+json": {
              "type": "string"
            }
          },
          "metadata": {},
          "execution_count": 125
        }
      ]
    },
    {
      "cell_type": "markdown",
      "source": [
        "Se calcularon las siguientes métricas con la validación cruzada: Exactitud,Recall, Precisión y F1-score.\n",
        "Para ello, se tomó como referencias los ejemplos de la [documentación](https://scikit-learn.org/stable/modules/model_evaluation.html#using-multiple-metric-evaluation) y los [nombres de cada métrica](https://scikit-learn.org/stable/modules/model_evaluation.html#scoring-string-names)."
      ],
      "metadata": {
        "id": "cZ-yYegJYa1O"
      }
    },
    {
      "cell_type": "code",
      "source": [
        "metricas = ['accuracy', 'recall', 'precision', 'f1']\n",
        "modelo_arbol = DecisionTreeClassifier(max_depth=10, random_state=5)\n",
        "kf = KFold(n_splits=5, shuffle=True, random_state=5)\n",
        "\n",
        "for i in metricas:\n",
        "  vc_metrica = cross_validate(estimator = modelo_arbol, X=X, y=y, cv=kf, scoring={i:i})\n",
        "  print(intervaloconfianza(vc_metrica, i))"
      ],
      "metadata": {
        "id": "rE1lowUvWpK0",
        "outputId": "caa278d9-2495-45cf-aa07-8a20500b7957",
        "colab": {
          "base_uri": "https://localhost:8080/"
        }
      },
      "execution_count": 126,
      "outputs": [
        {
          "output_type": "stream",
          "name": "stdout",
          "text": [
            "Intervalo del confianza para accuracy es: (0.8985;0.9179)\n",
            "Intervalo del confianza para recall es: (0.0131;0.0287)\n",
            "Intervalo del confianza para precision es: (0.2012;0.2485)\n",
            "Intervalo del confianza para f1 es: (0.0250;0.0514)\n"
          ]
        }
      ]
    },
    {
      "cell_type": "markdown",
      "source": [
        "### Estratificando los datos\n",
        "Cuando las clases de la variable de respuesta tienen cantidades desequilibradas, es necesario mantener esa proporción en los conjuntos de datos usados en la validación cruzada."
      ],
      "metadata": {
        "id": "-FAOYtNen4qJ"
      }
    },
    {
      "cell_type": "code",
      "source": [
        "datos.moroso.value_counts()"
      ],
      "metadata": {
        "id": "G6bPA6vaPN1A",
        "outputId": "a53c367d-6f4c-4f2a-e103-5d61fcd5d93d",
        "colab": {
          "base_uri": "https://localhost:8080/",
          "height": 178
        }
      },
      "execution_count": 127,
      "outputs": [
        {
          "output_type": "execute_result",
          "data": {
            "text/plain": [
              "moroso\n",
              "0    49309\n",
              "1     4716\n",
              "Name: count, dtype: int64"
            ],
            "text/html": [
              "<div>\n",
              "<style scoped>\n",
              "    .dataframe tbody tr th:only-of-type {\n",
              "        vertical-align: middle;\n",
              "    }\n",
              "\n",
              "    .dataframe tbody tr th {\n",
              "        vertical-align: top;\n",
              "    }\n",
              "\n",
              "    .dataframe thead th {\n",
              "        text-align: right;\n",
              "    }\n",
              "</style>\n",
              "<table border=\"1\" class=\"dataframe\">\n",
              "  <thead>\n",
              "    <tr style=\"text-align: right;\">\n",
              "      <th></th>\n",
              "      <th>count</th>\n",
              "    </tr>\n",
              "    <tr>\n",
              "      <th>moroso</th>\n",
              "      <th></th>\n",
              "    </tr>\n",
              "  </thead>\n",
              "  <tbody>\n",
              "    <tr>\n",
              "      <th>0</th>\n",
              "      <td>49309</td>\n",
              "    </tr>\n",
              "    <tr>\n",
              "      <th>1</th>\n",
              "      <td>4716</td>\n",
              "    </tr>\n",
              "  </tbody>\n",
              "</table>\n",
              "</div><br><label><b>dtype:</b> int64</label>"
            ]
          },
          "metadata": {},
          "execution_count": 127
        }
      ]
    },
    {
      "cell_type": "code",
      "source": [
        "metricas = ['accuracy', 'recall', 'precision', 'f1']\n",
        "modelo_arbol = DecisionTreeClassifier(max_depth=10, random_state=5)\n",
        "skf = StratifiedKFold(n_splits=5, shuffle=True, random_state=5)\n",
        "\n",
        "for i in metricas:\n",
        "  vc_metrica = cross_validate(estimator = modelo_arbol, X=X, y=y, cv=skf, scoring={i:i})\n",
        "  print(intervaloconfianza(vc_metrica, i))"
      ],
      "metadata": {
        "id": "HONIpY1BPNzd",
        "outputId": "46f21002-f726-4948-e82b-153af5446b46",
        "colab": {
          "base_uri": "https://localhost:8080/"
        }
      },
      "execution_count": 128,
      "outputs": [
        {
          "output_type": "stream",
          "name": "stdout",
          "text": [
            "Intervalo del confianza para accuracy es: (0.9033;0.9107)\n",
            "Intervalo del confianza para recall es: (0.0210;0.0359)\n",
            "Intervalo del confianza para precision es: (0.1750;0.3040)\n",
            "Intervalo del confianza para f1 es: (0.0393;0.0619)\n"
          ]
        }
      ]
    },
    {
      "cell_type": "markdown",
      "source": [
        "### Desafío - aula 3\n",
        "Para realizar los desafíos, descarga la base de datos desde [este enlace](https://github.com/alura-es-cursos/2162-clasificacion-validacion-de-modelos-y-metricas/blob/desafios/diabetes.csv).\n",
        "1. En el proceso de validación cruzada, se generan diferentes modelos para cada división realizada en los datos y, en consecuencia, diferentes valores de métricas de evaluación. Para encontrar un resultado promedio de las métricas, se puede construir un intervalo de confianza a partir de la media y la desviación estándar de las métricas. Crea una función para calcular el intervalo de confianza de los resultados de una validación cruzada con 2 desviaciones estándar. La función necesita 2 parámetros: uno para recibir una lista con los resultados de las métricas de la validación cruzada y otro para recibir el nombre del algoritmo. Para generar el intervalo de confianza, extrae la media de los resultados de la lista y la desviación estándar. El intervalo de confianza debe ser presentado en un print con el valor mínimo siendo la media restada de 2 desviaciones estándar y el valor máximo siendo la media sumada de 2 desviaciones estándar. Ejemplo de retorno de la función:\n",
        "```Python\n",
        "Intervalo de confianza (\"nombre del modelo\"): [\"valor mínimo del intervalo\", \"valor máximo del intervalo\"]\n",
        "```\n",
        "2. KFold es la estrategia más simple de validación cruzada, que permite la división aleatoria de los datos en k partes, siendo utilizada una parte para validación y el resto para entrenamiento del modelo. El proceso de creación de modelos se repite hasta que todas las partes son utilizadas como validación. Sabiendo esto, evalúa el desempeño de los modelos con un intervalo de confianza utilizando la validación cruzada con el método KFold, usando 10 partes, con el uso del parámetro n_splits y mezclando los datos antes de la separación con el parámetro shuffle. Usa el método cross_val_score que no retorna el tiempo de ejecución, solo las métricas.\n",
        "\n",
        "3. En el proceso de división de datos con el KFold aleatorio, puede ser que la proporción de cada categoría de la variable objetivo no se mantenga en cada una de las partes de los datos. Para mantener esa proporción en cada una de las partes, podemos utilizar el KFold estratificado, haciendo que el proceso de validación de datos sea mucho más consistente. Evalúa el desempeño de los modelos con un intervalo de confianza utilizando la validación cruzada (cross_val_score) con el método StratifiedKFold, usando el parámetro n_splits y mezclando los datos antes de la separación con el parámetro shuffle y evaluando la métrica F1-Score usando el parámetro scoring.\n",
        "\n",
        "4. En conjuntos de datos con pocos registros (pocas filas), las estrategias de separación de los datos para validación pueden hacer que quede poca información en los datos de entrenamiento, haciendo que el modelo no comprenda bien el patrón de los datos. El LeaveOneOut es una estrategia para sortear este problema, utilizando solo un registro como dato de validación. Evalúa el desempeño de los modelos utilizando la validación cruzada (cross_val_score) con el método [LeaveOneOut](https://scikit-learn.org/stable/modules/generated/sklearn.model_selection.LeaveOneOut.html)."
      ],
      "metadata": {
        "id": "74RWTktYoF5W"
      }
    },
    {
      "cell_type": "markdown",
      "source": [
        "#### Función para el cálculo del intervalo de confianza\n",
        "Se modificó considerando que el método [cross_val_score](https://scikit-learn.org/stable/modules/generated/sklearn.model_selection.cross_val_score.html) genera un array correspondiente a una sola métrica."
      ],
      "metadata": {
        "id": "HwrYGk58qVxi"
      }
    },
    {
      "cell_type": "code",
      "source": [
        "def intervaloconfianza(resultado, metrica):\n",
        "  metrica_promedio = resultado.mean()\n",
        "  metrica_std = resultado.std()\n",
        "  return f'Intervalo del confianza para {metrica} es: ({max(metrica_promedio - 2*metrica_std,0):.4f};{min(metrica_promedio + 2*metrica_std,1):.4f})'"
      ],
      "metadata": {
        "id": "wHlvNm5xoNkf"
      },
      "execution_count": 129,
      "outputs": []
    },
    {
      "cell_type": "code",
      "source": [
        "#ModeloML y métricas\n",
        "metricas = ['accuracy', 'recall', 'precision', 'f1']\n",
        "modelos = {'arbol':modelo_arbol_d,'random forest':modelo_randomforest_d}"
      ],
      "metadata": {
        "id": "F0e1Uw9ZqZmo"
      },
      "execution_count": 130,
      "outputs": []
    },
    {
      "cell_type": "markdown",
      "source": [
        "####Método de validación cruzada con KFold"
      ],
      "metadata": {
        "id": "FWnX0yxkqawK"
      }
    },
    {
      "cell_type": "code",
      "source": [
        "kf = KFold(n_splits=10, shuffle=True, random_state=5)"
      ],
      "metadata": {
        "id": "WJTkCjJYwU6e"
      },
      "execution_count": 131,
      "outputs": []
    },
    {
      "cell_type": "code",
      "source": [
        "#Resultados de la validación\n",
        "for clave, valor in modelos.items():\n",
        "  print(f'Resultados de validación cruzada para el modelo de {clave} usando Kfold')\n",
        "  print('-'*30)\n",
        "  for j in metricas:\n",
        "    vc_metrica = cross_val_score(estimator = valor, X=X_d, y=y_d, cv=kf, scoring=j)\n",
        "    print(intervaloconfianza(vc_metrica, j))"
      ],
      "metadata": {
        "id": "49ceu7VNtQql",
        "outputId": "cdcb555a-d97e-4cb7-f89a-66d4accd0830",
        "colab": {
          "base_uri": "https://localhost:8080/"
        }
      },
      "execution_count": 132,
      "outputs": [
        {
          "output_type": "stream",
          "name": "stdout",
          "text": [
            "Resultados de validación cruzada para el modelo de arbol usando Kfold\n",
            "------------------------------\n",
            "Intervalo del confianza para accuracy es: (0.5337;0.8684)\n",
            "Intervalo del confianza para recall es: (0.2846;0.7423)\n",
            "Intervalo del confianza para precision es: (0.2171;0.9558)\n",
            "Intervalo del confianza para f1 es: (0.3029;0.7500)\n",
            "Resultados de validación cruzada para el modelo de random forest usando Kfold\n",
            "------------------------------\n",
            "Intervalo del confianza para accuracy es: (0.6078;0.7553)\n",
            "Intervalo del confianza para recall es: (0.0000;0.5301)\n",
            "Intervalo del confianza para precision es: (0.0759;1.0000)\n",
            "Intervalo del confianza para f1 es: (0.0079;0.5688)\n"
          ]
        }
      ]
    },
    {
      "cell_type": "markdown",
      "source": [
        "####Método de validación cruzada con StratifiedKFold"
      ],
      "metadata": {
        "id": "u7OEYfq5qh0D"
      }
    },
    {
      "cell_type": "code",
      "source": [
        "skf = StratifiedKFold(n_splits=10, shuffle=True, random_state=5)"
      ],
      "metadata": {
        "id": "rMHxVEn6yWDu"
      },
      "execution_count": 133,
      "outputs": []
    },
    {
      "cell_type": "code",
      "source": [
        "#Resultados de la validación\n",
        "for clave, valor in modelos.items():\n",
        "  print(f'Resultados de validación cruzada para el modelo de {clave} usando StratifiedKfold')\n",
        "  print('-'*30)\n",
        "  for j in metricas:\n",
        "    vc_metrica = cross_val_score(estimator = valor, X=X_d, y=y_d, cv=skf, scoring=j)\n",
        "    print(intervaloconfianza(vc_metrica, j))"
      ],
      "metadata": {
        "id": "ZWHNGLnvqiOk",
        "outputId": "69300851-fcab-481c-95c5-d6b5af4aa083",
        "colab": {
          "base_uri": "https://localhost:8080/"
        }
      },
      "execution_count": 134,
      "outputs": [
        {
          "output_type": "stream",
          "name": "stdout",
          "text": [
            "Resultados de validación cruzada para el modelo de arbol usando StratifiedKfold\n",
            "------------------------------\n",
            "Intervalo del confianza para accuracy es: (0.6283;0.7671)\n",
            "Intervalo del confianza para recall es: (0.1206;0.9179)\n",
            "Intervalo del confianza para precision es: (0.3910;0.7412)\n",
            "Intervalo del confianza para f1 es: (0.2717;0.7462)\n",
            "Resultados de validación cruzada para el modelo de random forest usando StratifiedKfold\n",
            "------------------------------\n",
            "Intervalo del confianza para accuracy es: (0.6068;0.7571)\n",
            "Intervalo del confianza para recall es: (0.0000;0.4624)\n",
            "Intervalo del confianza para precision es: (0.0729;0.8973)\n",
            "Intervalo del confianza para f1 es: (0.0000;0.5949)\n"
          ]
        }
      ]
    },
    {
      "cell_type": "markdown",
      "source": [
        "####Método de validación cruzada con LeaveOneOut\n",
        "En este método, se valida el modelo en cada dato del conjunto de entrenamiento (n° validacion = 1). Por tanto:\n",
        "- No se puede generar una matriz de confusión con 1 solo dato de validación.\n",
        "- La desviación estándar sería muy alta debido a que los puntajes de exactitud serían únicamente ceros o unos, generando el intervalo de confianza (0; 1).\n",
        "\n",
        "Por todo lo anterior, se obtuvo únicamente la exactitud promedio de cada modelo usando la validación cruzada con el método LeaveOneOut."
      ],
      "metadata": {
        "id": "_SnJucJzqnCt"
      }
    },
    {
      "cell_type": "code",
      "source": [
        "loo = LeaveOneOut()"
      ],
      "metadata": {
        "id": "PecIAaBi0iqi"
      },
      "execution_count": 135,
      "outputs": []
    },
    {
      "cell_type": "code",
      "source": [
        "#Resultados de la validación\n",
        "for clave, valor in modelos.items():\n",
        "  print(f'Resultados de validación cruzada para el modelo de {clave} usando LeaveOneOut')\n",
        "  print('-'*30)\n",
        "  vc_metrica = cross_val_score(estimator = valor, X=X_d, y=y_d, cv=loo)\n",
        "  print(f'Exactitud media ({clave}): {vc_metrica.mean()}')"
      ],
      "metadata": {
        "id": "0Sa_IOPzqnbT",
        "outputId": "7fce7bc2-faaf-457c-e7fb-dff60ef93137",
        "colab": {
          "base_uri": "https://localhost:8080/"
        }
      },
      "execution_count": 136,
      "outputs": [
        {
          "output_type": "stream",
          "name": "stdout",
          "text": [
            "Resultados de validación cruzada para el modelo de arbol usando LeaveOneOut\n",
            "------------------------------\n",
            "Exactitud media (arbol): 0.7085561497326203\n",
            "Resultados de validación cruzada para el modelo de random forest usando LeaveOneOut\n",
            "------------------------------\n",
            "Exactitud media (random forest): 0.6844919786096256\n"
          ]
        }
      ]
    },
    {
      "cell_type": "markdown",
      "source": [
        "## <font color='dark'>Balanceo de los datos</h1>"
      ],
      "metadata": {
        "id": "yaVwNb1kn8sX"
      }
    },
    {
      "cell_type": "markdown",
      "source": [
        "### Oversampling"
      ],
      "metadata": {
        "id": "4eYKxWJd6g6w"
      }
    },
    {
      "cell_type": "markdown",
      "source": [
        "https://imbalanced-learn.org/stable/references/generated/imblearn.over_sampling.SMOTE.html#id1"
      ],
      "metadata": {
        "id": "N0MJ7hGUmL4l"
      }
    },
    {
      "cell_type": "code",
      "source": [
        "#Proporción de categorías en el conjunto de entrenamiento y validación\n",
        "y.value_counts(normalize=True)*100"
      ],
      "metadata": {
        "id": "MMLn9pFOBOll",
        "outputId": "75db339a-49b9-4dd7-f9d1-2686ba39edd8",
        "colab": {
          "base_uri": "https://localhost:8080/",
          "height": 178
        }
      },
      "execution_count": 137,
      "outputs": [
        {
          "output_type": "execute_result",
          "data": {
            "text/plain": [
              "moroso\n",
              "0    91.269789\n",
              "1     8.730211\n",
              "Name: proportion, dtype: float64"
            ],
            "text/html": [
              "<div>\n",
              "<style scoped>\n",
              "    .dataframe tbody tr th:only-of-type {\n",
              "        vertical-align: middle;\n",
              "    }\n",
              "\n",
              "    .dataframe tbody tr th {\n",
              "        vertical-align: top;\n",
              "    }\n",
              "\n",
              "    .dataframe thead th {\n",
              "        text-align: right;\n",
              "    }\n",
              "</style>\n",
              "<table border=\"1\" class=\"dataframe\">\n",
              "  <thead>\n",
              "    <tr style=\"text-align: right;\">\n",
              "      <th></th>\n",
              "      <th>proportion</th>\n",
              "    </tr>\n",
              "    <tr>\n",
              "      <th>moroso</th>\n",
              "      <th></th>\n",
              "    </tr>\n",
              "  </thead>\n",
              "  <tbody>\n",
              "    <tr>\n",
              "      <th>0</th>\n",
              "      <td>91.269789</td>\n",
              "    </tr>\n",
              "    <tr>\n",
              "      <th>1</th>\n",
              "      <td>8.730211</td>\n",
              "    </tr>\n",
              "  </tbody>\n",
              "</table>\n",
              "</div><br><label><b>dtype:</b> float64</label>"
            ]
          },
          "metadata": {},
          "execution_count": 137
        }
      ]
    },
    {
      "cell_type": "code",
      "source": [
        "#Se nombra el método de balanceo en la variable sm\n",
        "sm = SMOTE(random_state=42)\n",
        "\n",
        "#Se balancean el conjunto de datos de entrenamiento y validación con SMOTE\n",
        "X_balanceado, y_balanceado = sm.fit_resample(X, y)"
      ],
      "metadata": {
        "id": "cO0Dx5xAO4B5"
      },
      "execution_count": 138,
      "outputs": []
    },
    {
      "cell_type": "code",
      "source": [
        "#Se vuelve a crear la función intervalodeconfianza que recibe el array generado con cross_validate\n",
        "def intervaloconfianza(resultado, metrica):\n",
        "  score_name = f'test_{metrica}'\n",
        "  metrica_promedio = resultado[score_name].mean()\n",
        "  metrica_std = resultado[score_name].std()\n",
        "  return f'Intervalo del confianza para {metrica} es: ({(metrica_promedio - 2*metrica_std):.4f};{min(metrica_promedio + 2*metrica_std,1):.4f})'"
      ],
      "metadata": {
        "id": "IVfMzMcyCZrE"
      },
      "execution_count": 139,
      "outputs": []
    },
    {
      "cell_type": "code",
      "source": [
        "#Informe de métricas de la validación cruzada para el conjunto de datos balanceado\n",
        "metricas = ['accuracy', 'recall', 'precision', 'f1']\n",
        "modelo_arbol = DecisionTreeClassifier(max_depth=10, random_state=5)\n",
        "skf = StratifiedKFold(n_splits=5, shuffle=True, random_state=5)\n",
        "\n",
        "for i in metricas:\n",
        "  vc_metrica = cross_validate(estimator = modelo_arbol, X=X_balanceado, y=y_balanceado, cv=skf, scoring={i:i})\n",
        "  print(intervaloconfianza(vc_metrica, i))"
      ],
      "metadata": {
        "id": "h6DQqcttO3_c",
        "outputId": "98ca5072-7990-4d94-eca1-57413fdff871",
        "colab": {
          "base_uri": "https://localhost:8080/"
        }
      },
      "execution_count": 140,
      "outputs": [
        {
          "output_type": "stream",
          "name": "stdout",
          "text": [
            "Intervalo del confianza para accuracy es: (0.7670;0.7887)\n",
            "Intervalo del confianza para recall es: (0.6921;0.7579)\n",
            "Intervalo del confianza para precision es: (0.7958;0.8259)\n",
            "Intervalo del confianza para f1 es: (0.7495;0.7813)\n"
          ]
        }
      ]
    },
    {
      "cell_type": "markdown",
      "source": [
        "### Pipeline para validación"
      ],
      "metadata": {
        "id": "fHSNXznm6ia-"
      }
    },
    {
      "cell_type": "code",
      "source": [
        "#Creación de un pipeline para entrenar el modelo de arbol con datos balanceados, para que aprenda de ambas clases\n",
        "modelo_arbol = DecisionTreeClassifier(max_depth=10, random_state=5)\n",
        "pipeline = imbpipeline(steps=[('balanceo oversample', SMOTE(random_state=42)), ('modelo', modelo_arbol)]) #Solo se contruye"
      ],
      "metadata": {
        "id": "DaoAbR84O44S"
      },
      "execution_count": 141,
      "outputs": []
    },
    {
      "cell_type": "code",
      "source": [
        "#Informe de métricas de la validación cruzada para el conjunto de datos desbalanceados, para obtener resultados más realistas\n",
        "metricas = ['accuracy', 'recall', 'precision', 'f1']\n",
        "skf = StratifiedKFold(n_splits=5, shuffle=True, random_state=5)\n",
        "\n",
        "for i in metricas:\n",
        "  vc_metrica = cross_validate(estimator = pipeline, X=X, y=y, cv=skf, scoring={i:i})#Se ejecuta el pipeline que usará SMOTE unicamente durante el entrenamiento.\n",
        "  print(intervaloconfianza(vc_metrica, i))"
      ],
      "metadata": {
        "id": "7UezUduWO41c",
        "outputId": "7ca53718-4f2c-4987-95c5-dd92bb5e1d85",
        "colab": {
          "base_uri": "https://localhost:8080/"
        }
      },
      "execution_count": 142,
      "outputs": [
        {
          "output_type": "stream",
          "name": "stdout",
          "text": [
            "Intervalo del confianza para accuracy es: (0.7435;0.8094)\n",
            "Intervalo del confianza para recall es: (0.1790;0.3004)\n",
            "Intervalo del confianza para precision es: (0.1062;0.1290)\n",
            "Intervalo del confianza para f1 es: (0.1389;0.1756)\n"
          ]
        }
      ]
    },
    {
      "cell_type": "markdown",
      "source": [
        "### Undersampling"
      ],
      "metadata": {
        "id": "66PlvwjX6kFv"
      }
    },
    {
      "cell_type": "markdown",
      "source": [
        "https://imbalanced-learn.org/stable/references/generated/imblearn.under_sampling.NearMiss.html"
      ],
      "metadata": {
        "id": "Fh6VZN5Fx7wl"
      }
    },
    {
      "cell_type": "code",
      "source": [
        "#Creación de un pipeline para entrenar el modelo de arbol con datos balanceados, para que aprenda de ambas clases\n",
        "modelo_arbol = DecisionTreeClassifier(max_depth=10, random_state=5)\n",
        "pipeline = imbpipeline(steps=[('balanceo undersample', NearMiss(version=3)), ('modelo', modelo_arbol)]) #Solo se contruye"
      ],
      "metadata": {
        "id": "lUn59uqAO63N"
      },
      "execution_count": 144,
      "outputs": []
    },
    {
      "cell_type": "code",
      "source": [
        "#Informe de métricas de la validación cruzada para el conjunto de datos desbalanceados, para obtener resultados más realistas\n",
        "metricas = ['accuracy', 'recall', 'precision', 'f1']\n",
        "skf = StratifiedKFold(n_splits=5, shuffle=True, random_state=5)\n",
        "\n",
        "for i in metricas:\n",
        "  vc_metrica = cross_validate(estimator = pipeline, X=X, y=y, cv=skf, scoring={i:i})#Se ejecuta el pipeline que usará NEARMISS unicamente durante el entrenamiento.\n",
        "  print(intervaloconfianza(vc_metrica, i))"
      ],
      "metadata": {
        "id": "pOUKHwqRO6zb",
        "outputId": "ca1eec61-b94f-4f5c-dabf-781914a36874",
        "colab": {
          "base_uri": "https://localhost:8080/"
        }
      },
      "execution_count": 145,
      "outputs": [
        {
          "output_type": "stream",
          "name": "stdout",
          "text": [
            "Intervalo del confianza para accuracy es: (0.4723;0.5486)\n",
            "Intervalo del confianza para recall es: (0.6289;0.6996)\n",
            "Intervalo del confianza para precision es: (0.1078;0.1161)\n",
            "Intervalo del confianza para f1 es: (0.1864;0.1968)\n"
          ]
        }
      ]
    },
    {
      "cell_type": "markdown",
      "source": [
        "### Probando el modelo"
      ],
      "metadata": {
        "id": "EP-44U0eHt-a"
      }
    },
    {
      "cell_type": "code",
      "source": [
        "#Entrenamos el modelo de arbol siguiendo los pasos del pipeline y con todos los datos de entrenamiento (X, y)\n",
        "modelo_arbol = pipeline.fit(X, y)\n",
        "\n",
        "#Predicción de y a partir del X_test\n",
        "y_pred_test = modelo_arbol.predict(X_test)\n",
        "\n",
        "#Imprimimos el reporte de métricas de clasificación\n",
        "print(classification_report(y_test, y_pred_test))\n",
        "\n",
        "#Imprimimos la matriz de confusión\n",
        "ConfusionMatrixDisplay.from_predictions(y_test, y_pred_test, display_labels=['No moroso','Moroso']);"
      ],
      "metadata": {
        "id": "XWhZlwOTO8eN",
        "outputId": "b1469bff-9cc9-460f-c8d4-e677fc0f7aaa",
        "colab": {
          "base_uri": "https://localhost:8080/",
          "height": 613
        }
      },
      "execution_count": 147,
      "outputs": [
        {
          "output_type": "stream",
          "name": "stdout",
          "text": [
            "              precision    recall  f1-score   support\n",
            "\n",
            "           0       0.94      0.48      0.64      7397\n",
            "           1       0.11      0.70      0.20       707\n",
            "\n",
            "    accuracy                           0.50      8104\n",
            "   macro avg       0.53      0.59      0.42      8104\n",
            "weighted avg       0.87      0.50      0.60      8104\n",
            "\n"
          ]
        },
        {
          "output_type": "display_data",
          "data": {
            "text/plain": [
              "<Figure size 640x480 with 2 Axes>"
            ],
            "image/png": "[encoded data removed]"
          },
          "metadata": {}
        }
      ]
    },
    {
      "cell_type": "markdown",
      "source": [
        "### Desafío 1 - aula 4\n",
        "Como desafío, utiliza el algoritmo [SMOTEENN](https://imbalanced-learn.org/stable/references/generated/imblearn.combine.SMOTEENN.html), que combina el oversampling con SMOTE y el undersampling con el ENN (Edited Nearest Neighbours), para balancear los datos y observa los resultados obtenidos por el modelo usando el pipeline y la validación cruzada."
      ],
      "metadata": {
        "id": "20Y6mpmW9ngH"
      }
    },
    {
      "cell_type": "code",
      "source": [
        "#Creación de un pipeline para entrenar el modelo de arbol con datos balanceados, para que aprenda de ambas clases\n",
        "modelo_arbol = DecisionTreeClassifier(max_depth=10, random_state=5)\n",
        "pipeline = imbpipeline(steps=[('balanceo mixto', SMOTEENN(random_state=42)), ('modelo', modelo_arbol)]) #Solo se contruye"
      ],
      "metadata": {
        "id": "gZHVqM6hO8bt"
      },
      "execution_count": 150,
      "outputs": []
    },
    {
      "cell_type": "code",
      "source": [
        "#Informe de métricas de la validación cruzada para el conjunto de datos desbalanceados, para obtener resultados más realistas\n",
        "metricas = ['accuracy', 'recall', 'precision', 'f1']\n",
        "skf = StratifiedKFold(n_splits=5, shuffle=True, random_state=5)\n",
        "\n",
        "for i in metricas:\n",
        "  vc_metrica = cross_validate(estimator = pipeline, X=X, y=y, cv=skf, scoring={i:i})#Se ejecuta el pipeline que usará SMOTENN unicamente durante el entrenamiento.\n",
        "  print(intervaloconfianza(vc_metrica, i))"
      ],
      "metadata": {
        "id": "kmxktcWD-quK",
        "outputId": "59c93c4c-13de-4a2b-e548-d6f9648d0a98",
        "colab": {
          "base_uri": "https://localhost:8080/"
        }
      },
      "execution_count": 151,
      "outputs": [
        {
          "output_type": "stream",
          "name": "stdout",
          "text": [
            "Intervalo del confianza para accuracy es: (0.7157;0.7660)\n",
            "Intervalo del confianza para recall es: (0.3033;0.3811)\n",
            "Intervalo del confianza para precision es: (0.1210;0.1374)\n",
            "Intervalo del confianza para f1 es: (0.1778;0.1970)\n"
          ]
        }
      ]
    },
    {
      "cell_type": "markdown",
      "source": [
        "### Desafío 2 - aula 4\n",
        "\n",
        "Para realizar los desafíos, descarga la base de datos desde [este enlace](https://github.com/alura-es-cursos/2162-clasificacion-validacion-de-modelos-y-metricas/blob/desafios/diabetes.csv).\n",
        "\n",
        "1. El desbalanceo de los datos de la variable objetivo puede hacer que el modelo se incline a acertar los patrones de solo la categoría que tiene mayor cantidad, haciendo necesario en algunos casos un tratamiento específico de balanceo de datos. La etapa inicial es identificar si existe o no el desbalanceo de datos en la variable objetivo. Por eso, verifica la proporción de datos de la variable objetivo del conjunto de datos de diabetes. Este análisis puede hacerse a partir del porcentaje de datos, utilizando el método value_counts(normalize=True) o con la utilización de un gráfico de conteo, usando el gráfico countplot de la biblioteca seaborn para entender si hay un desbalanceo de datos.\n",
        "\n",
        "2. Al realizar el balanceo de datos en una validación cruzada, es necesario utilizar un pipeline, para que los datos de validación no sean balanceados, manteniéndose en el estándar de los datos del mundo real. Utiliza un pipeline que contenga el ajuste del modelo y el balanceo de los datos usando el oversampling con SMOTE, obteniendo la media del F1-Score de una validación cruzada con StratifiedKFold.\n",
        "\n",
        "3. Además del oversampling, es posible utilizar la estrategia de undersampling para hacer el balanceo de los datos. A pesar de ser estrategias distintas, ambas requieren de un pipeline por tratarse de balanceo de datos en una validación cruzada. Utiliza un pipeline que contenga el ajuste del modelo y el balanceo de los datos usando el undersampling con NearMiss en su versión 3, obteniendo la media del F1-Score de una validación cruzada con StratifiedKFold.\n",
        "\n",
        "4. Después de realizar diversas análisis y mejorar el rendimiento de los modelos, llega la etapa final, que consiste en seleccionar el modelo con mejor rendimiento y hacer la evaluación final en un conjunto de datos de prueba, que no ha sido visto durante el proceso de entrenamiento y validación. Elige el modelo que obtuvo el mejor rendimiento al comparar las estrategias de oversampling y undersampling y entrena un modelo usando todos los datos con la mejor estrategia. Realiza la evaluación del modelo usando los datos de prueba que fueron separados al inicio de los desafíos, obteniendo el informe de métricas y matriz de confusión."
      ],
      "metadata": {
        "id": "DFZsLTNw9ogH"
      }
    },
    {
      "cell_type": "markdown",
      "source": [
        "#### Conteo de categorías de la variable de respuesta"
      ],
      "metadata": {
        "id": "9JbOUHUTAy5i"
      }
    },
    {
      "cell_type": "code",
      "source": [
        "y_d.value_counts(normalize=True)*100"
      ],
      "metadata": {
        "id": "QSrpOQpxO8WT",
        "outputId": "9dca9ede-293b-4df1-c3bd-cce2451d9d87",
        "colab": {
          "base_uri": "https://localhost:8080/",
          "height": 178
        }
      },
      "execution_count": 153,
      "outputs": [
        {
          "output_type": "execute_result",
          "data": {
            "text/plain": [
              "diabetes\n",
              "0    67.112299\n",
              "1    32.887701\n",
              "Name: proportion, dtype: float64"
            ],
            "text/html": [
              "<div>\n",
              "<style scoped>\n",
              "    .dataframe tbody tr th:only-of-type {\n",
              "        vertical-align: middle;\n",
              "    }\n",
              "\n",
              "    .dataframe tbody tr th {\n",
              "        vertical-align: top;\n",
              "    }\n",
              "\n",
              "    .dataframe thead th {\n",
              "        text-align: right;\n",
              "    }\n",
              "</style>\n",
              "<table border=\"1\" class=\"dataframe\">\n",
              "  <thead>\n",
              "    <tr style=\"text-align: right;\">\n",
              "      <th></th>\n",
              "      <th>proportion</th>\n",
              "    </tr>\n",
              "    <tr>\n",
              "      <th>diabetes</th>\n",
              "      <th></th>\n",
              "    </tr>\n",
              "  </thead>\n",
              "  <tbody>\n",
              "    <tr>\n",
              "      <th>0</th>\n",
              "      <td>67.112299</td>\n",
              "    </tr>\n",
              "    <tr>\n",
              "      <th>1</th>\n",
              "      <td>32.887701</td>\n",
              "    </tr>\n",
              "  </tbody>\n",
              "</table>\n",
              "</div><br><label><b>dtype:</b> float64</label>"
            ]
          },
          "metadata": {},
          "execution_count": 153
        }
      ]
    },
    {
      "cell_type": "code",
      "source": [
        "#Se vuelve a crear la función intervalodeconfianza que recibe el array generado con cross_val_score\n",
        "def intervaloconfianza(resultado, metrica):\n",
        "  metrica_promedio = resultado.mean()\n",
        "  metrica_std = resultado.std()\n",
        "  return f'Intervalo del confianza para {metrica} es: ({max(metrica_promedio - 2*metrica_std,0):.4f};{min(metrica_promedio + 2*metrica_std,1):.4f})'"
      ],
      "metadata": {
        "id": "GzWL2BmSB_bM"
      },
      "execution_count": 155,
      "outputs": []
    },
    {
      "cell_type": "code",
      "source": [
        "#Métricas\n",
        "metricas = ['accuracy', 'recall', 'precision', 'f1']"
      ],
      "metadata": {
        "id": "jQT27DxTB75c"
      },
      "execution_count": 156,
      "outputs": []
    },
    {
      "cell_type": "markdown",
      "source": [
        "#### Oversampling"
      ],
      "metadata": {
        "id": "-7w-ZhFSA4rL"
      }
    },
    {
      "cell_type": "code",
      "source": [
        "#Pipelines\n",
        "pipeline_arbol = imbpipeline(steps=[('balanceo oversample', SMOTE(random_state=42)), ('modelo', modelo_arbol_d)])\n",
        "pipeline_randomforest = imbpipeline(steps=[('balanceo oversample', SMOTE(random_state=42)), ('modelo', modelo_randomforest_d)])\n",
        "pipelines = {'arbol':pipeline_arbol,'random forest':pipeline_randomforest}"
      ],
      "metadata": {
        "id": "HzeyOAPIDWjy"
      },
      "execution_count": null,
      "outputs": []
    },
    {
      "cell_type": "code",
      "source": [
        "#Informe de métricas de la validación cruzada para el conjunto de datos desbalanceados, para obtener resultados más realistas\n",
        "skf = StratifiedKFold(n_splits=5, shuffle=True, random_state=5)\n",
        "#Resultados de la validación\n",
        "for clave, valor in pipelines.items():\n",
        "  print(f'Resultados de validación cruzada para el modelo {clave} entrenado con datos balanceados usando SMOTE')\n",
        "  print('-'*30)\n",
        "  for j in metricas:\n",
        "    vc_metrica = cross_val_score(estimator = valor, X=X_d, y=y_d, cv=skf, scoring=j)\n",
        "    print(intervaloconfianza(vc_metrica, j))"
      ],
      "metadata": {
        "id": "xtu1yo-QA72x",
        "outputId": "f279351c-cb2c-480e-8a6b-7732d8a829b8",
        "colab": {
          "base_uri": "https://localhost:8080/"
        }
      },
      "execution_count": 157,
      "outputs": [
        {
          "output_type": "stream",
          "name": "stdout",
          "text": [
            "Resultados de validación cruzada para el modelo arbol entrenado con datos balanceados usando SMOTE\n",
            "------------------------------\n",
            "Intervalo del confianza para accuracy es: (0.5498;0.7439)\n",
            "Intervalo del confianza para recall es: (0.3112;1.0000)\n",
            "Intervalo del confianza para precision es: (0.3789;0.5997)\n",
            "Intervalo del confianza para f1 es: (0.4461;0.6460)\n",
            "Resultados de validación cruzada para el modelo random forest entrenado con datos balanceados usando SMOTE\n",
            "------------------------------\n",
            "Intervalo del confianza para accuracy es: (0.6264;0.7317)\n",
            "Intervalo del confianza para recall es: (0.5134;0.9806)\n",
            "Intervalo del confianza para precision es: (0.4502;0.5767)\n",
            "Intervalo del confianza para f1 es: (0.5367;0.6672)\n"
          ]
        }
      ]
    },
    {
      "cell_type": "markdown",
      "source": [
        "#### Undersampling"
      ],
      "metadata": {
        "id": "EPp5GKavA8G6"
      }
    },
    {
      "cell_type": "code",
      "source": [
        "#Pipelines\n",
        "pipeline_arbol = imbpipeline(steps=[('balanceo undersample', NearMiss(version=3)), ('modelo', modelo_arbol_d)])\n",
        "pipeline_randomforest = imbpipeline(steps=[('balanceo undersample', NearMiss(version=3)), ('modelo', modelo_randomforest_d)])\n",
        "pipelines = {'arbol':pipeline_arbol,'random forest':pipeline_randomforest}"
      ],
      "metadata": {
        "id": "pDcjcYuzDcq7"
      },
      "execution_count": 159,
      "outputs": []
    },
    {
      "cell_type": "code",
      "source": [
        "#Informe de métricas de la validación cruzada para el conjunto de datos desbalanceados, para obtener resultados más realistas\n",
        "skf = StratifiedKFold(n_splits=5, shuffle=True, random_state=5)\n",
        "#Resultados de la validación\n",
        "for clave, valor in pipelines.items():\n",
        "  print(f'Resultados de validación cruzada para el modelo {clave} entrenado con datos balanceados usando NearMiss')\n",
        "  print('-'*30)\n",
        "  for j in metricas:\n",
        "    vc_metrica = cross_val_score(estimator = valor, X=X_d, y=y_d, cv=skf, scoring=j)\n",
        "    print(intervaloconfianza(vc_metrica, j))"
      ],
      "metadata": {
        "id": "7Dd5hGXUDdFF",
        "outputId": "95a1cf73-6edc-43e8-a63a-27c2c30907a7",
        "colab": {
          "base_uri": "https://localhost:8080/"
        }
      },
      "execution_count": 160,
      "outputs": [
        {
          "output_type": "stream",
          "name": "stdout",
          "text": [
            "Resultados de validación cruzada para el modelo arbol entrenado con datos balanceados usando NearMiss\n",
            "------------------------------\n",
            "Intervalo del confianza para accuracy es: (0.4957;0.6916)\n",
            "Intervalo del confianza para recall es: (0.3888;0.6698)\n",
            "Intervalo del confianza para precision es: (0.3185;0.5085)\n",
            "Intervalo del confianza para f1 es: (0.3787;0.5442)\n",
            "Resultados de validación cruzada para el modelo random forest entrenado con datos balanceados usando NearMiss\n",
            "------------------------------\n",
            "Intervalo del confianza para accuracy es: (0.6568;0.7551)\n",
            "Intervalo del confianza para recall es: (0.5108;0.9018)\n",
            "Intervalo del confianza para precision es: (0.4831;0.6076)\n",
            "Intervalo del confianza para f1 es: (0.5484;0.6722)\n"
          ]
        }
      ]
    },
    {
      "cell_type": "markdown",
      "source": [
        "####Evaluación final del modelo\n",
        "Se evaluará el modelo Random Forest empleando la técnica de balanceo undersampling. Toda vez que con obtuvo el mejor intervalo de confianza para la métrica F1."
      ],
      "metadata": {
        "id": "MjUG5hbDA-xD"
      }
    },
    {
      "cell_type": "code",
      "source": [
        "modelo_randomforest_d"
      ],
      "metadata": {
        "id": "FUx7ARIcFBbd",
        "outputId": "f07c9f49-8c17-416c-8a95-00489dddb3b4",
        "colab": {
          "base_uri": "https://localhost:8080/",
          "height": 80
        }
      },
      "execution_count": 161,
      "outputs": [
        {
          "output_type": "execute_result",
          "data": {
            "text/plain": [
              "RandomForestClassifier(max_depth=2, random_state=2)"
            ],
            "text/html": [
              "<style>#sk-container-id-2 {\n",
              "  /* Definition of color scheme common for light and dark mode */\n",
              "  --sklearn-color-text: #000;\n",
              "  --sklearn-color-text-muted: #666;\n",
              "  --sklearn-color-line: gray;\n",
              "  /* Definition of color scheme for unfitted estimators */\n",
              "  --sklearn-color-unfitted-level-0: #fff5e6;\n",
              "  --sklearn-color-unfitted-level-1: #f6e4d2;\n",
              "  --sklearn-color-unfitted-level-2: #ffe0b3;\n",
              "  --sklearn-color-unfitted-level-3: chocolate;\n",
              "  /* Definition of color scheme for fitted estimators */\n",
              "  --sklearn-color-fitted-level-0: #f0f8ff;\n",
              "  --sklearn-color-fitted-level-1: #d4ebff;\n",
              "  --sklearn-color-fitted-level-2: #b3dbfd;\n",
              "  --sklearn-color-fitted-level-3: cornflowerblue;\n",
              "\n",
              "  /* Specific color for light theme */\n",
              "  --sklearn-color-text-on-default-background: var(--sg-text-color, var(--theme-code-foreground, var(--jp-content-font-color1, black)));\n",
              "  --sklearn-color-background: var(--sg-background-color, var(--theme-background, var(--jp-layout-color0, white)));\n",
              "  --sklearn-color-border-box: var(--sg-text-color, var(--theme-code-foreground, var(--jp-content-font-color1, black)));\n",
              "  --sklearn-color-icon: #696969;\n",
              "\n",
              "  @media (prefers-color-scheme: dark) {\n",
              "    /* Redefinition of color scheme for dark theme */\n",
              "    --sklearn-color-text-on-default-background: var(--sg-text-color, var(--theme-code-foreground, var(--jp-content-font-color1, white)));\n",
              "    --sklearn-color-background: var(--sg-background-color, var(--theme-background, var(--jp-layout-color0, #111)));\n",
              "    --sklearn-color-border-box: var(--sg-text-color, var(--theme-code-foreground, var(--jp-content-font-color1, white)));\n",
              "    --sklearn-color-icon: #878787;\n",
              "  }\n",
              "}\n",
              "\n",
              "#sk-container-id-2 {\n",
              "  color: var(--sklearn-color-text);\n",
              "}\n",
              "\n",
              "#sk-container-id-2 pre {\n",
              "  padding: 0;\n",
              "}\n",
              "\n",
              "#sk-container-id-2 input.sk-hidden--visually {\n",
              "  border: 0;\n",
              "  clip: rect(1px 1px 1px 1px);\n",
              "  clip: rect(1px, 1px, 1px, 1px);\n",
              "  height: 1px;\n",
              "  margin: -1px;\n",
              "  overflow: hidden;\n",
              "  padding: 0;\n",
              "  position: absolute;\n",
              "  width: 1px;\n",
              "}\n",
              "\n",
              "#sk-container-id-2 div.sk-dashed-wrapped {\n",
              "  border: 1px dashed var(--sklearn-color-line);\n",
              "  margin: 0 0.4em 0.5em 0.4em;\n",
              "  box-sizing: border-box;\n",
              "  padding-bottom: 0.4em;\n",
              "  background-color: var(--sklearn-color-background);\n",
              "}\n",
              "\n",
              "#sk-container-id-2 div.sk-container {\n",
              "  /* jupyter's `normalize.less` sets `[hidden] { display: none; }`\n",
              "     but bootstrap.min.css set `[hidden] { display: none !important; }`\n",
              "     so we also need the `!important` here to be able to override the\n",
              "     default hidden behavior on the sphinx rendered scikit-learn.org.\n",
              "     See: https://github.com/scikit-learn/scikit-learn/issues/21755 */\n",
              "  display: inline-block !important;\n",
              "  position: relative;\n",
              "}\n",
              "\n",
              "#sk-container-id-2 div.sk-text-repr-fallback {\n",
              "  display: none;\n",
              "}\n",
              "\n",
              "div.sk-parallel-item,\n",
              "div.sk-serial,\n",
              "div.sk-item {\n",
              "  /* draw centered vertical line to link estimators */\n",
              "  background-image: linear-gradient(var(--sklearn-color-text-on-default-background), var(--sklearn-color-text-on-default-background));\n",
              "  background-size: 2px 100%;\n",
              "  background-repeat: no-repeat;\n",
              "  background-position: center center;\n",
              "}\n",
              "\n",
              "/* Parallel-specific style estimator block */\n",
              "\n",
              "#sk-container-id-2 div.sk-parallel-item::after {\n",
              "  content: \"\";\n",
              "  width: 100%;\n",
              "  border-bottom: 2px solid var(--sklearn-color-text-on-default-background);\n",
              "  flex-grow: 1;\n",
              "}\n",
              "\n",
              "#sk-container-id-2 div.sk-parallel {\n",
              "  display: flex;\n",
              "  align-items: stretch;\n",
              "  justify-content: center;\n",
              "  background-color: var(--sklearn-color-background);\n",
              "  position: relative;\n",
              "}\n",
              "\n",
              "#sk-container-id-2 div.sk-parallel-item {\n",
              "  display: flex;\n",
              "  flex-direction: column;\n",
              "}\n",
              "\n",
              "#sk-container-id-2 div.sk-parallel-item:first-child::after {\n",
              "  align-self: flex-end;\n",
              "  width: 50%;\n",
              "}\n",
              "\n",
              "#sk-container-id-2 div.sk-parallel-item:last-child::after {\n",
              "  align-self: flex-start;\n",
              "  width: 50%;\n",
              "}\n",
              "\n",
              "#sk-container-id-2 div.sk-parallel-item:only-child::after {\n",
              "  width: 0;\n",
              "}\n",
              "\n",
              "/* Serial-specific style estimator block */\n",
              "\n",
              "#sk-container-id-2 div.sk-serial {\n",
              "  display: flex;\n",
              "  flex-direction: column;\n",
              "  align-items: center;\n",
              "  background-color: var(--sklearn-color-background);\n",
              "  padding-right: 1em;\n",
              "  padding-left: 1em;\n",
              "}\n",
              "\n",
              "\n",
              "/* Toggleable style: style used for estimator/Pipeline/ColumnTransformer box that is\n",
              "clickable and can be expanded/collapsed.\n",
              "- Pipeline and ColumnTransformer use this feature and define the default style\n",
              "- Estimators will overwrite some part of the style using the `sk-estimator` class\n",
              "*/\n",
              "\n",
              "/* Pipeline and ColumnTransformer style (default) */\n",
              "\n",
              "#sk-container-id-2 div.sk-toggleable {\n",
              "  /* Default theme specific background. It is overwritten whether we have a\n",
              "  specific estimator or a Pipeline/ColumnTransformer */\n",
              "  background-color: var(--sklearn-color-background);\n",
              "}\n",
              "\n",
              "/* Toggleable label */\n",
              "#sk-container-id-2 label.sk-toggleable__label {\n",
              "  cursor: pointer;\n",
              "  display: flex;\n",
              "  width: 100%;\n",
              "  margin-bottom: 0;\n",
              "  padding: 0.5em;\n",
              "  box-sizing: border-box;\n",
              "  text-align: center;\n",
              "  align-items: start;\n",
              "  justify-content: space-between;\n",
              "  gap: 0.5em;\n",
              "}\n",
              "\n",
              "#sk-container-id-2 label.sk-toggleable__label .caption {\n",
              "  font-size: 0.6rem;\n",
              "  font-weight: lighter;\n",
              "  color: var(--sklearn-color-text-muted);\n",
              "}\n",
              "\n",
              "#sk-container-id-2 label.sk-toggleable__label-arrow:before {\n",
              "  /* Arrow on the left of the label */\n",
              "  content: \"▸\";\n",
              "  float: left;\n",
              "  margin-right: 0.25em;\n",
              "  color: var(--sklearn-color-icon);\n",
              "}\n",
              "\n",
              "#sk-container-id-2 label.sk-toggleable__label-arrow:hover:before {\n",
              "  color: var(--sklearn-color-text);\n",
              "}\n",
              "\n",
              "/* Toggleable content - dropdown */\n",
              "\n",
              "#sk-container-id-2 div.sk-toggleable__content {\n",
              "  max-height: 0;\n",
              "  max-width: 0;\n",
              "  overflow: hidden;\n",
              "  text-align: left;\n",
              "  /* unfitted */\n",
              "  background-color: var(--sklearn-color-unfitted-level-0);\n",
              "}\n",
              "\n",
              "#sk-container-id-2 div.sk-toggleable__content.fitted {\n",
              "  /* fitted */\n",
              "  background-color: var(--sklearn-color-fitted-level-0);\n",
              "}\n",
              "\n",
              "#sk-container-id-2 div.sk-toggleable__content pre {\n",
              "  margin: 0.2em;\n",
              "  border-radius: 0.25em;\n",
              "  color: var(--sklearn-color-text);\n",
              "  /* unfitted */\n",
              "  background-color: var(--sklearn-color-unfitted-level-0);\n",
              "}\n",
              "\n",
              "#sk-container-id-2 div.sk-toggleable__content.fitted pre {\n",
              "  /* unfitted */\n",
              "  background-color: var(--sklearn-color-fitted-level-0);\n",
              "}\n",
              "\n",
              "#sk-container-id-2 input.sk-toggleable__control:checked~div.sk-toggleable__content {\n",
              "  /* Expand drop-down */\n",
              "  max-height: 200px;\n",
              "  max-width: 100%;\n",
              "  overflow: auto;\n",
              "}\n",
              "\n",
              "#sk-container-id-2 input.sk-toggleable__control:checked~label.sk-toggleable__label-arrow:before {\n",
              "  content: \"▾\";\n",
              "}\n",
              "\n",
              "/* Pipeline/ColumnTransformer-specific style */\n",
              "\n",
              "#sk-container-id-2 div.sk-label input.sk-toggleable__control:checked~label.sk-toggleable__label {\n",
              "  color: var(--sklearn-color-text);\n",
              "  background-color: var(--sklearn-color-unfitted-level-2);\n",
              "}\n",
              "\n",
              "#sk-container-id-2 div.sk-label.fitted input.sk-toggleable__control:checked~label.sk-toggleable__label {\n",
              "  background-color: var(--sklearn-color-fitted-level-2);\n",
              "}\n",
              "\n",
              "/* Estimator-specific style */\n",
              "\n",
              "/* Colorize estimator box */\n",
              "#sk-container-id-2 div.sk-estimator input.sk-toggleable__control:checked~label.sk-toggleable__label {\n",
              "  /* unfitted */\n",
              "  background-color: var(--sklearn-color-unfitted-level-2);\n",
              "}\n",
              "\n",
              "#sk-container-id-2 div.sk-estimator.fitted input.sk-toggleable__control:checked~label.sk-toggleable__label {\n",
              "  /* fitted */\n",
              "  background-color: var(--sklearn-color-fitted-level-2);\n",
              "}\n",
              "\n",
              "#sk-container-id-2 div.sk-label label.sk-toggleable__label,\n",
              "#sk-container-id-2 div.sk-label label {\n",
              "  /* The background is the default theme color */\n",
              "  color: var(--sklearn-color-text-on-default-background);\n",
              "}\n",
              "\n",
              "/* On hover, darken the color of the background */\n",
              "#sk-container-id-2 div.sk-label:hover label.sk-toggleable__label {\n",
              "  color: var(--sklearn-color-text);\n",
              "  background-color: var(--sklearn-color-unfitted-level-2);\n",
              "}\n",
              "\n",
              "/* Label box, darken color on hover, fitted */\n",
              "#sk-container-id-2 div.sk-label.fitted:hover label.sk-toggleable__label.fitted {\n",
              "  color: var(--sklearn-color-text);\n",
              "  background-color: var(--sklearn-color-fitted-level-2);\n",
              "}\n",
              "\n",
              "/* Estimator label */\n",
              "\n",
              "#sk-container-id-2 div.sk-label label {\n",
              "  font-family: monospace;\n",
              "  font-weight: bold;\n",
              "  display: inline-block;\n",
              "  line-height: 1.2em;\n",
              "}\n",
              "\n",
              "#sk-container-id-2 div.sk-label-container {\n",
              "  text-align: center;\n",
              "}\n",
              "\n",
              "/* Estimator-specific */\n",
              "#sk-container-id-2 div.sk-estimator {\n",
              "  font-family: monospace;\n",
              "  border: 1px dotted var(--sklearn-color-border-box);\n",
              "  border-radius: 0.25em;\n",
              "  box-sizing: border-box;\n",
              "  margin-bottom: 0.5em;\n",
              "  /* unfitted */\n",
              "  background-color: var(--sklearn-color-unfitted-level-0);\n",
              "}\n",
              "\n",
              "#sk-container-id-2 div.sk-estimator.fitted {\n",
              "  /* fitted */\n",
              "  background-color: var(--sklearn-color-fitted-level-0);\n",
              "}\n",
              "\n",
              "/* on hover */\n",
              "#sk-container-id-2 div.sk-estimator:hover {\n",
              "  /* unfitted */\n",
              "  background-color: var(--sklearn-color-unfitted-level-2);\n",
              "}\n",
              "\n",
              "#sk-container-id-2 div.sk-estimator.fitted:hover {\n",
              "  /* fitted */\n",
              "  background-color: var(--sklearn-color-fitted-level-2);\n",
              "}\n",
              "\n",
              "/* Specification for estimator info (e.g. \"i\" and \"?\") */\n",
              "\n",
              "/* Common style for \"i\" and \"?\" */\n",
              "\n",
              ".sk-estimator-doc-link,\n",
              "a:link.sk-estimator-doc-link,\n",
              "a:visited.sk-estimator-doc-link {\n",
              "  float: right;\n",
              "  font-size: smaller;\n",
              "  line-height: 1em;\n",
              "  font-family: monospace;\n",
              "  background-color: var(--sklearn-color-background);\n",
              "  border-radius: 1em;\n",
              "  height: 1em;\n",
              "  width: 1em;\n",
              "  text-decoration: none !important;\n",
              "  margin-left: 0.5em;\n",
              "  text-align: center;\n",
              "  /* unfitted */\n",
              "  border: var(--sklearn-color-unfitted-level-1) 1pt solid;\n",
              "  color: var(--sklearn-color-unfitted-level-1);\n",
              "}\n",
              "\n",
              ".sk-estimator-doc-link.fitted,\n",
              "a:link.sk-estimator-doc-link.fitted,\n",
              "a:visited.sk-estimator-doc-link.fitted {\n",
              "  /* fitted */\n",
              "  border: var(--sklearn-color-fitted-level-1) 1pt solid;\n",
              "  color: var(--sklearn-color-fitted-level-1);\n",
              "}\n",
              "\n",
              "/* On hover */\n",
              "div.sk-estimator:hover .sk-estimator-doc-link:hover,\n",
              ".sk-estimator-doc-link:hover,\n",
              "div.sk-label-container:hover .sk-estimator-doc-link:hover,\n",
              ".sk-estimator-doc-link:hover {\n",
              "  /* unfitted */\n",
              "  background-color: var(--sklearn-color-unfitted-level-3);\n",
              "  color: var(--sklearn-color-background);\n",
              "  text-decoration: none;\n",
              "}\n",
              "\n",
              "div.sk-estimator.fitted:hover .sk-estimator-doc-link.fitted:hover,\n",
              ".sk-estimator-doc-link.fitted:hover,\n",
              "div.sk-label-container:hover .sk-estimator-doc-link.fitted:hover,\n",
              ".sk-estimator-doc-link.fitted:hover {\n",
              "  /* fitted */\n",
              "  background-color: var(--sklearn-color-fitted-level-3);\n",
              "  color: var(--sklearn-color-background);\n",
              "  text-decoration: none;\n",
              "}\n",
              "\n",
              "/* Span, style for the box shown on hovering the info icon */\n",
              ".sk-estimator-doc-link span {\n",
              "  display: none;\n",
              "  z-index: 9999;\n",
              "  position: relative;\n",
              "  font-weight: normal;\n",
              "  right: .2ex;\n",
              "  padding: .5ex;\n",
              "  margin: .5ex;\n",
              "  width: min-content;\n",
              "  min-width: 20ex;\n",
              "  max-width: 50ex;\n",
              "  color: var(--sklearn-color-text);\n",
              "  box-shadow: 2pt 2pt 4pt #999;\n",
              "  /* unfitted */\n",
              "  background: var(--sklearn-color-unfitted-level-0);\n",
              "  border: .5pt solid var(--sklearn-color-unfitted-level-3);\n",
              "}\n",
              "\n",
              ".sk-estimator-doc-link.fitted span {\n",
              "  /* fitted */\n",
              "  background: var(--sklearn-color-fitted-level-0);\n",
              "  border: var(--sklearn-color-fitted-level-3);\n",
              "}\n",
              "\n",
              ".sk-estimator-doc-link:hover span {\n",
              "  display: block;\n",
              "}\n",
              "\n",
              "/* \"?\"-specific style due to the `<a>` HTML tag */\n",
              "\n",
              "#sk-container-id-2 a.estimator_doc_link {\n",
              "  float: right;\n",
              "  font-size: 1rem;\n",
              "  line-height: 1em;\n",
              "  font-family: monospace;\n",
              "  background-color: var(--sklearn-color-background);\n",
              "  border-radius: 1rem;\n",
              "  height: 1rem;\n",
              "  width: 1rem;\n",
              "  text-decoration: none;\n",
              "  /* unfitted */\n",
              "  color: var(--sklearn-color-unfitted-level-1);\n",
              "  border: var(--sklearn-color-unfitted-level-1) 1pt solid;\n",
              "}\n",
              "\n",
              "#sk-container-id-2 a.estimator_doc_link.fitted {\n",
              "  /* fitted */\n",
              "  border: var(--sklearn-color-fitted-level-1) 1pt solid;\n",
              "  color: var(--sklearn-color-fitted-level-1);\n",
              "}\n",
              "\n",
              "/* On hover */\n",
              "#sk-container-id-2 a.estimator_doc_link:hover {\n",
              "  /* unfitted */\n",
              "  background-color: var(--sklearn-color-unfitted-level-3);\n",
              "  color: var(--sklearn-color-background);\n",
              "  text-decoration: none;\n",
              "}\n",
              "\n",
              "#sk-container-id-2 a.estimator_doc_link.fitted:hover {\n",
              "  /* fitted */\n",
              "  background-color: var(--sklearn-color-fitted-level-3);\n",
              "}\n",
              "</style><div id=\"sk-container-id-2\" class=\"sk-top-container\"><div class=\"sk-text-repr-fallback\"><pre>RandomForestClassifier(max_depth=2, random_state=2)</pre><b>In a Jupyter environment, please rerun this cell to show the HTML representation or trust the notebook. <br />On GitHub, the HTML representation is unable to render, please try loading this page with nbviewer.org.</b></div><div class=\"sk-container\" hidden><div class=\"sk-item\"><div class=\"sk-estimator fitted sk-toggleable\"><input class=\"sk-toggleable__control sk-hidden--visually\" id=\"sk-estimator-id-2\" type=\"checkbox\" checked><label for=\"sk-estimator-id-2\" class=\"sk-toggleable__label fitted sk-toggleable__label-arrow\"><div><div>RandomForestClassifier</div></div><div><a class=\"sk-estimator-doc-link fitted\" rel=\"noreferrer\" target=\"_blank\" href=\"https://scikit-learn.org/1.6/modules/generated/sklearn.ensemble.RandomForestClassifier.html\">?<span>Documentation for RandomForestClassifier</span></a><span class=\"sk-estimator-doc-link fitted\">i<span>Fitted</span></span></div></label><div class=\"sk-toggleable__content fitted\"><pre>RandomForestClassifier(max_depth=2, random_state=2)</pre></div> </div></div></div></div>"
            ]
          },
          "metadata": {},
          "execution_count": 161
        }
      ]
    },
    {
      "cell_type": "code",
      "source": [
        "#Pipeline de RandomForest y undersampling\n",
        "pipeline_randomforest = imbpipeline(steps=[('balanceo undersample', NearMiss(version=3)), ('modelo', modelo_randomforest_d)])\n",
        "\n",
        "#Entrenamos el modelo de arbol siguiendo los pasos del pipeline y con todos los datos de entrenamiento (X, y)\n",
        "modelo_randomforest_d = pipeline_randomforest.fit(X_d, y_d)\n",
        "\n",
        "#Predicción de y a partir del X_test\n",
        "y_pred_test_d = modelo_randomforest_d.predict(X_test_d)\n",
        "\n",
        "#Imprimimos el reporte de métricas de clasificación\n",
        "print(classification_report(y_test_d, y_pred_test_d))\n",
        "\n",
        "#Imprimimos la matriz de confusión\n",
        "ConfusionMatrixDisplay.from_predictions(y_test_d, y_pred_test_d, display_labels=['No diabético','Diabético']);"
      ],
      "metadata": {
        "id": "ucjIiEaoBDxj",
        "outputId": "4854d203-2e82-4eaa-f480-a229c2e6a105",
        "colab": {
          "base_uri": "https://localhost:8080/",
          "height": 619
        }
      },
      "execution_count": 162,
      "outputs": [
        {
          "output_type": "stream",
          "name": "stdout",
          "text": [
            "              precision    recall  f1-score   support\n",
            "\n",
            "           0       0.89      0.62      0.73        13\n",
            "           1       0.55      0.86      0.67         7\n",
            "\n",
            "    accuracy                           0.70        20\n",
            "   macro avg       0.72      0.74      0.70        20\n",
            "weighted avg       0.77      0.70      0.71        20\n",
            "\n"
          ]
        },
        {
          "output_type": "display_data",
          "data": {
            "text/plain": [
              "<Figure size 640x480 with 2 Axes>"
            ],
            "image/png": "[encoded data removed]"
          },
          "metadata": {}
        }
      ]
    }
  ]
}